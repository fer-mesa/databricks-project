{
 "cells": [
  {
   "cell_type": "markdown",
   "metadata": {
    "application/vnd.databricks.v1+cell": {
     "cellMetadata": {},
     "inputWidgets": {},
     "nuid": "37fb9caf-ac47-4ef8-93df-54172de5d69d",
     "showTitle": false,
     "tableResultSettingsMap": {},
     "title": ""
    }
   },
   "source": [
    "# Create managed table for the transformed data for analysis"
   ]
  },
  {
   "cell_type": "markdown",
   "metadata": {
    "application/vnd.databricks.v1+cell": {
     "cellMetadata": {
      "byteLimit": 2048000,
      "rowLimit": 10000
     },
     "inputWidgets": {},
     "nuid": "79666e74-568a-4a43-a91e-b339a5830f41",
     "showTitle": false,
     "tableResultSettingsMap": {},
     "title": ""
    }
   },
   "source": [
    "## Pre-requisites\n",
    "- Add file date parameter widget to the notebook and get it as a variable"
   ]
  },
  {
   "cell_type": "code",
   "execution_count": 0,
   "metadata": {
    "application/vnd.databricks.v1+cell": {
     "cellMetadata": {
      "byteLimit": 2048000,
      "rowLimit": 10000
     },
     "inputWidgets": {},
     "nuid": "28db6d6f-209f-4ec5-8017-bac5ed4bea09",
     "showTitle": false,
     "tableResultSettingsMap": {},
     "title": ""
    }
   },
   "outputs": [],
   "source": [
    "dbutils.widgets.text(\"param_file_date\", \"\")\n",
    "var_file_date = dbutils.widgets.get(\"param_file_date\")"
   ]
  },
  {
   "cell_type": "markdown",
   "metadata": {
    "application/vnd.databricks.v1+cell": {
     "cellMetadata": {
      "byteLimit": 2048000,
      "rowLimit": 10000
     },
     "inputWidgets": {},
     "nuid": "656aff38-afba-4029-b900-c8ca64c2d0e9",
     "showTitle": false,
     "tableResultSettingsMap": {},
     "title": ""
    }
   },
   "source": [
    "## Step 1 - Create Delta Lake table"
   ]
  },
  {
   "cell_type": "code",
   "execution_count": 0,
   "metadata": {
    "application/vnd.databricks.v1+cell": {
     "cellMetadata": {
      "byteLimit": 2048000,
      "rowLimit": 10000
     },
     "inputWidgets": {},
     "nuid": "e0ff9819-e241-494a-881e-deaaa7d2248e",
     "showTitle": false,
     "tableResultSettingsMap": {},
     "title": ""
    }
   },
   "outputs": [
    {
     "output_type": "execute_result",
     "data": {
      "text/plain": [
       "DataFrame[]"
      ]
     },
     "execution_count": 48,
     "metadata": {},
     "output_type": "execute_result"
    }
   ],
   "source": [
    "spark.sql(f\"\"\"\n",
    "        CREATE TABLE IF NOT EXISTS f1_presentation.calculated_race_results\n",
    "        (race_year INT,\n",
    "         team_name STRING,\n",
    "         driver_id INT,\n",
    "         driver_name STRING,\n",
    "         race_id INT,\n",
    "         position INT,\n",
    "         points INT,\n",
    "         calculated_points INT,\n",
    "         created_date TIMESTAMP,\n",
    "         updated_date TIMESTAMP)\n",
    "        USING DELTA\n",
    "\"\"\")"
   ]
  },
  {
   "cell_type": "markdown",
   "metadata": {
    "application/vnd.databricks.v1+cell": {
     "cellMetadata": {
      "byteLimit": 2048000,
      "rowLimit": 10000
     },
     "inputWidgets": {},
     "nuid": "a9a6d52b-c9fe-475e-b886-39e73d4c6a82",
     "showTitle": false,
     "tableResultSettingsMap": {},
     "title": ""
    }
   },
   "source": [
    "## Step 2 - Create temporary view with the data only from the supplied file_date"
   ]
  },
  {
   "cell_type": "code",
   "execution_count": 0,
   "metadata": {
    "application/vnd.databricks.v1+cell": {
     "cellMetadata": {
      "byteLimit": 2048000,
      "rowLimit": 10000
     },
     "inputWidgets": {},
     "nuid": "37133297-1593-4ec9-9b0d-451d010217d1",
     "showTitle": false,
     "tableResultSettingsMap": {},
     "title": ""
    }
   },
   "outputs": [
    {
     "output_type": "execute_result",
     "data": {
      "text/plain": [
       "DataFrame[]"
      ]
     },
     "execution_count": 49,
     "metadata": {},
     "output_type": "execute_result"
    }
   ],
   "source": [
    "spark.sql(f\"\"\"\n",
    "          CREATE OR REPLACE TEMP VIEW race_result_updated\n",
    "          AS\n",
    "          SELECT races.race_year,\n",
    "          constructors.name AS team_name,\n",
    "          drivers.driver_id,\n",
    "          drivers.name AS driver_name,\n",
    "          races.race_id,\n",
    "          results.position,\n",
    "          results.points,\n",
    "          11 - results.position AS calculated_points -- To assign equal points to drivers based on their position (1-10) regardless of the points awarded each year\n",
    "          FROM f1_processed.results\n",
    "          JOIN f1_processed.drivers ON (results.driver_id = drivers.driver_id)\n",
    "          JOIN f1_processed.constructors ON (results.constructor_id = constructors.constructor_id)\n",
    "          JOIN f1_processed.races ON (results.race_id = races.race_id)\n",
    "          WHERE results.position <= 10\n",
    "          AND results.file_date = '{var_file_date}'\n",
    "\"\"\")"
   ]
  },
  {
   "cell_type": "markdown",
   "metadata": {
    "application/vnd.databricks.v1+cell": {
     "cellMetadata": {
      "byteLimit": 2048000,
      "rowLimit": 10000
     },
     "inputWidgets": {},
     "nuid": "6f139ba3-f4de-499c-b876-fe7c1cb94b0d",
     "showTitle": false,
     "tableResultSettingsMap": {},
     "title": ""
    }
   },
   "source": [
    "## Step 3 - Insert or update records from the temporary view into the existing Delta Lake table"
   ]
  },
  {
   "cell_type": "code",
   "execution_count": 0,
   "metadata": {
    "application/vnd.databricks.v1+cell": {
     "cellMetadata": {
      "byteLimit": 2048000,
      "implicitDf": true,
      "rowLimit": 10000
     },
     "inputWidgets": {},
     "nuid": "65d656d1-26d9-449e-b61d-a0998746a5ba",
     "showTitle": false,
     "tableResultSettingsMap": {},
     "title": ""
    }
   },
   "outputs": [
    {
     "output_type": "execute_result",
     "data": {
      "text/plain": [
       "DataFrame[num_affected_rows: bigint, num_updated_rows: bigint, num_deleted_rows: bigint, num_inserted_rows: bigint]"
      ]
     },
     "execution_count": 50,
     "metadata": {},
     "output_type": "execute_result"
    }
   ],
   "source": [
    "spark.sql(f\"\"\"\n",
    "                MERGE INTO f1_presentation.calculated_race_results tgt\n",
    "                USING race_result_updated upd\n",
    "                ON (tgt.driver_id = upd.driver_id AND tgt.race_id = upd.race_id)\n",
    "                WHEN MATCHED THEN\n",
    "                UPDATE SET tgt.position = upd.position,\n",
    "                            tgt.points = upd.points,\n",
    "                            tgt.calculated_points = upd.calculated_points,\n",
    "                            tgt.updated_date = current_timestamp()\n",
    "                WHEN NOT MATCHED\n",
    "                THEN INSERT (race_year, team_name, driver_id, driver_name, race_id, position, points, calculated_points, created_date)\n",
    "                VALUES (race_year, team_name, driver_id, driver_name, race_id, position, points, calculated_points, current_timestamp())\n",
    "\"\"\")"
   ]
  }
 ],
 "metadata": {
  "application/vnd.databricks.v1+notebook": {
   "computePreferences": null,
   "dashboards": [],
   "environmentMetadata": {
    "base_environment": "",
    "environment_version": "2"
   },
   "inputWidgetPreferences": null,
   "language": "python",
   "notebookMetadata": {
    "mostRecentlyExecutedCommandWithImplicitDF": {
     "commandId": 8188248971028055,
     "dataframes": [
      "_sqldf"
     ]
    },
    "pythonIndentUnit": 4
   },
   "notebookName": "0.calculated_race_results",
   "widgets": {
    "param_file_date": {
     "currentValue": "2021-04-18",
     "nuid": "eeba2e9f-e1d8-4efe-a936-547aa81b0777",
     "typedWidgetInfo": {
      "autoCreated": false,
      "defaultValue": "",
      "label": null,
      "name": "param_file_date",
      "options": {
       "widgetDisplayType": "Text",
       "validationRegex": null
      },
      "parameterDataType": "String"
     },
     "widgetInfo": {
      "widgetType": "text",
      "defaultValue": "",
      "label": null,
      "name": "param_file_date",
      "options": {
       "widgetType": "text",
       "autoCreated": null,
       "validationRegex": null
      }
     }
    }
   }
  },
  "language_info": {
   "name": "python"
  }
 },
 "nbformat": 4,
 "nbformat_minor": 0
}