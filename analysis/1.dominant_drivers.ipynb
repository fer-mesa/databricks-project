{
 "cells": [
  {
   "cell_type": "markdown",
   "metadata": {
    "application/vnd.databricks.v1+cell": {
     "cellMetadata": {},
     "inputWidgets": {},
     "nuid": "f4ac580c-d3a0-4ebf-b1ad-4ec6dbad16ba",
     "showTitle": false,
     "tableResultSettingsMap": {},
     "title": ""
    }
   },
   "source": [
    "# Find dominant drivers"
   ]
  },
  {
   "cell_type": "code",
   "execution_count": 0,
   "metadata": {
    "application/vnd.databricks.v1+cell": {
     "cellMetadata": {
      "byteLimit": 2048000,
      "rowLimit": 10000
     },
     "inputWidgets": {},
     "nuid": "9b002377-fba5-4f3b-8d76-8558d4b39221",
     "showTitle": false,
     "tableResultSettingsMap": {},
     "title": ""
    }
   },
   "outputs": [
    {
     "output_type": "display_data",
     "data": {
      "text/html": [
       "<h1 style=\"color:Black;text-align:center;font-family:Calibri\">Report on dominant Formula 1 Drivers </h1>"
      ]
     },
     "metadata": {},
     "output_type": "display_data"
    }
   ],
   "source": [
    "%python\n",
    "html = \"\"\"<h1 style=\"color:Black;text-align:center;font-family:Calibri\">Report on dominant Formula 1 Drivers </h1>\"\"\"\n",
    "displayHTML(html)"
   ]
  },
  {
   "cell_type": "markdown",
   "metadata": {
    "application/vnd.databricks.v1+cell": {
     "cellMetadata": {},
     "inputWidgets": {},
     "nuid": "4acbaedc-02a0-4df0-9ce6-06d1400827e2",
     "showTitle": false,
     "tableResultSettingsMap": {},
     "title": ""
    }
   },
   "source": [
    "## Drivers ordered by their average points (all time)"
   ]
  },
  {
   "cell_type": "code",
   "execution_count": 0,
   "metadata": {
    "application/vnd.databricks.v1+cell": {
     "cellMetadata": {
      "byteLimit": 2048000,
      "rowLimit": 10000
     },
     "inputWidgets": {},
     "nuid": "29498508-37e3-4741-a644-be5472377783",
     "showTitle": false,
     "tableResultSettingsMap": {},
     "title": ""
    }
   },
   "outputs": [
    {
     "output_type": "display_data",
     "data": {
      "text/html": [
       "<style scoped>\n",
       "  .table-result-container {\n",
       "    max-height: 300px;\n",
       "    overflow: auto;\n",
       "  }\n",
       "  table, th, td {\n",
       "    border: 1px solid black;\n",
       "    border-collapse: collapse;\n",
       "  }\n",
       "  th, td {\n",
       "    padding: 5px;\n",
       "  }\n",
       "  th {\n",
       "    text-align: left;\n",
       "  }\n",
       "</style><div class='table-result-container'><table class='table-result'><thead style='background-color: white'><tr><th>driver_name</th><th>total_races</th><th>total_points</th><th>avg_points</th><th>driver_rank</th></tr></thead><tbody><tr><td>Alain Prost</td><td>138</td><td>1156</td><td>8.376811594202898</td><td>1</td></tr><tr><td>Ayrton Senna</td><td>104</td><td>869</td><td>8.35576923076923</td><td>2</td></tr><tr><td>Jackie Stewart</td><td>61</td><td>507</td><td>8.311475409836065</td><td>3</td></tr><tr><td>Lewis Hamilton</td><td>232</td><td>1903</td><td>8.202586206896552</td><td>4</td></tr><tr><td>Michael Schumacher</td><td>226</td><td>1796</td><td>7.946902654867257</td><td>5</td></tr><tr><td>Nigel Mansell</td><td>90</td><td>713</td><td>7.9222222222222225</td><td>6</td></tr><tr><td>Niki Lauda</td><td>81</td><td>639</td><td>7.888888888888889</td><td>7</td></tr><tr><td>Sebastian Vettel</td><td>203</td><td>1565</td><td>7.70935960591133</td><td>8</td></tr><tr><td>Damon Hill</td><td>70</td><td>520</td><td>7.428571428571429</td><td>9</td></tr><tr><td>Juan Pablo Montoya</td><td>58</td><td>427</td><td>7.362068965517241</td><td>10</td></tr><tr><td>Nelson Piquet</td><td>115</td><td>845</td><td>7.3478260869565215</td><td>11</td></tr><tr><td>Mika Häkkinen</td><td>96</td><td>694</td><td>7.229166666666667</td><td>12</td></tr><tr><td>Jack Brabham</td><td>67</td><td>473</td><td>7.059701492537314</td><td>13</td></tr><tr><td>Bruce McLaren</td><td>58</td><td>404</td><td>6.9655172413793105</td><td>14</td></tr><tr><td>Denny Hulme</td><td>72</td><td>497</td><td>6.902777777777778</td><td>15</td></tr><tr><td>Max Verstappen</td><td>88</td><td>605</td><td>6.875</td><td>16</td></tr><tr><td>John Surtees</td><td>50</td><td>343</td><td>6.86</td><td>17</td></tr><tr><td>Carlos Reutemann</td><td>86</td><td>585</td><td>6.8023255813953485</td><td>18</td></tr><tr><td>Jody Scheckter</td><td>68</td><td>461</td><td>6.779411764705882</td><td>19</td></tr><tr><td>Valtteri Bottas</td><td>117</td><td>793</td><td>6.777777777777778</td><td>20</td></tr><tr><td>Fernando Alonso</td><td>209</td><td>1411</td><td>6.751196172248804</td><td>21</td></tr><tr><td>Gerhard Berger</td><td>112</td><td>755</td><td>6.741071428571429</td><td>22</td></tr><tr><td>Emerson Fittipaldi</td><td>76</td><td>506</td><td>6.657894736842105</td><td>23</td></tr><tr><td>Alan Jones</td><td>54</td><td>354</td><td>6.555555555555555</td><td>24</td></tr><tr><td>Kimi Räikkönen</td><td>227</td><td>1479</td><td>6.515418502202643</td><td>25</td></tr><tr><td>Jacky Ickx</td><td>56</td><td>354</td><td>6.321428571428571</td><td>26</td></tr><tr><td>David Coulthard</td><td>146</td><td>922</td><td>6.315068493150685</td><td>27</td></tr><tr><td>Graham Hill</td><td>86</td><td>542</td><td>6.3023255813953485</td><td>28</td></tr><tr><td>Jacques Laffite</td><td>80</td><td>501</td><td>6.2625</td><td>29</td></tr><tr><td>Clay Regazzoni</td><td>71</td><td>444</td><td>6.253521126760563</td><td>30</td></tr><tr><td>Ronnie Peterson</td><td>60</td><td>375</td><td>6.25</td><td>31</td></tr><tr><td>Nico Rosberg</td><td>144</td><td>899</td><td>6.243055555555555</td><td>32</td></tr><tr><td>Mario Andretti</td><td>55</td><td>342</td><td>6.218181818181818</td><td>33</td></tr><tr><td>Keke Rosberg</td><td>52</td><td>320</td><td>6.153846153846154</td><td>34</td></tr><tr><td>Rubens Barrichello</td><td>172</td><td>1029</td><td>5.982558139534884</td><td>35</td></tr><tr><td>Elio de Angelis</td><td>54</td><td>319</td><td>5.907407407407407</td><td>36</td></tr><tr><td>Ralf Schumacher</td><td>105</td><td>617</td><td>5.876190476190477</td><td>37</td></tr><tr><td>Eddie Irvine</td><td>76</td><td>440</td><td>5.7894736842105265</td><td>38</td></tr><tr><td>Daniel Ricciardo</td><td>111</td><td>639</td><td>5.756756756756757</td><td>39</td></tr><tr><td>Michele Alboreto</td><td>74</td><td>423</td><td>5.716216216216216</td><td>40</td></tr><tr><td>Mark Webber</td><td>132</td><td>753</td><td>5.704545454545454</td><td>41</td></tr><tr><td>Riccardo Patrese</td><td>108</td><td>614</td><td>5.685185185185185</td><td>42</td></tr><tr><td>Jenson Button</td><td>180</td><td>1020</td><td>5.666666666666667</td><td>43</td></tr><tr><td>Jean Alesi</td><td>106</td><td>591</td><td>5.5754716981132075</td><td>44</td></tr><tr><td>René Arnoux</td><td>68</td><td>377</td><td>5.544117647058823</td><td>45</td></tr><tr><td>Heinz-Harald Frentzen</td><td>82</td><td>451</td><td>5.5</td><td>46</td></tr><tr><td>John Watson</td><td>75</td><td>412</td><td>5.493333333333333</td><td>47</td></tr><tr><td>Robert Kubica</td><td>52</td><td>284</td><td>5.461538461538462</td><td>48</td></tr><tr><td>Jacques Villeneuve</td><td>86</td><td>461</td><td>5.3604651162790695</td><td>49</td></tr><tr><td>Patrick Tambay</td><td>52</td><td>277</td><td>5.326923076923077</td><td>50</td></tr><tr><td>Felipe Massa</td><td>187</td><td>960</td><td>5.133689839572193</td><td>51</td></tr><tr><td>Giancarlo Fisichella</td><td>112</td><td>556</td><td>4.964285714285714</td><td>52</td></tr><tr><td>Thierry Boutsen</td><td>79</td><td>382</td><td>4.8354430379746836</td><td>53</td></tr><tr><td>Martin Brundle</td><td>69</td><td>328</td><td>4.753623188405797</td><td>54</td></tr><tr><td>Jarno Trulli</td><td>106</td><td>496</td><td>4.679245283018868</td><td>55</td></tr><tr><td>Johnny Herbert</td><td>70</td><td>317</td><td>4.5285714285714285</td><td>56</td></tr><tr><td>Derek Warwick</td><td>55</td><td>249</td><td>4.527272727272727</td><td>57</td></tr><tr><td>Nick Heidfeld</td><td>101</td><td>447</td><td>4.425742574257426</td><td>58</td></tr><tr><td>Andrea de Cesaris</td><td>52</td><td>219</td><td>4.211538461538462</td><td>59</td></tr><tr><td>Olivier Panis</td><td>65</td><td>269</td><td>4.138461538461539</td><td>60</td></tr><tr><td>Romain Grosjean</td><td>59</td><td>244</td><td>4.135593220338983</td><td>61</td></tr><tr><td>Sergio Pérez</td><td>116</td><td>446</td><td>3.8448275862068964</td><td>62</td></tr><tr><td>Carlos Sainz</td><td>65</td><td>244</td><td>3.753846153846154</td><td>63</td></tr><tr><td>Nico Hülkenberg</td><td>97</td><td>345</td><td>3.556701030927835</td><td>64</td></tr></tbody></table></div>"
      ]
     },
     "metadata": {
      "application/vnd.databricks.v1+output": {
       "addedWidgets": {},
       "aggData": [],
       "aggError": "",
       "aggOverflow": false,
       "aggSchema": [],
       "aggSeriesLimitReached": false,
       "aggType": "",
       "arguments": {},
       "columnCustomDisplayInfos": {},
       "data": [
        [
         "Alain Prost",
         138,
         1156,
         8.376811594202898,
         1
        ],
        [
         "Ayrton Senna",
         104,
         869,
         8.35576923076923,
         2
        ],
        [
         "Jackie Stewart",
         61,
         507,
         8.311475409836065,
         3
        ],
        [
         "Lewis Hamilton",
         232,
         1903,
         8.202586206896552,
         4
        ],
        [
         "Michael Schumacher",
         226,
         1796,
         7.946902654867257,
         5
        ],
        [
         "Nigel Mansell",
         90,
         713,
         7.9222222222222225,
         6
        ],
        [
         "Niki Lauda",
         81,
         639,
         7.888888888888889,
         7
        ],
        [
         "Sebastian Vettel",
         203,
         1565,
         7.70935960591133,
         8
        ],
        [
         "Damon Hill",
         70,
         520,
         7.428571428571429,
         9
        ],
        [
         "Juan Pablo Montoya",
         58,
         427,
         7.362068965517241,
         10
        ],
        [
         "Nelson Piquet",
         115,
         845,
         7.3478260869565215,
         11
        ],
        [
         "Mika Häkkinen",
         96,
         694,
         7.229166666666667,
         12
        ],
        [
         "Jack Brabham",
         67,
         473,
         7.059701492537314,
         13
        ],
        [
         "Bruce McLaren",
         58,
         404,
         6.9655172413793105,
         14
        ],
        [
         "Denny Hulme",
         72,
         497,
         6.902777777777778,
         15
        ],
        [
         "Max Verstappen",
         88,
         605,
         6.875,
         16
        ],
        [
         "John Surtees",
         50,
         343,
         6.86,
         17
        ],
        [
         "Carlos Reutemann",
         86,
         585,
         6.8023255813953485,
         18
        ],
        [
         "Jody Scheckter",
         68,
         461,
         6.779411764705882,
         19
        ],
        [
         "Valtteri Bottas",
         117,
         793,
         6.777777777777778,
         20
        ],
        [
         "Fernando Alonso",
         209,
         1411,
         6.751196172248804,
         21
        ],
        [
         "Gerhard Berger",
         112,
         755,
         6.741071428571429,
         22
        ],
        [
         "Emerson Fittipaldi",
         76,
         506,
         6.657894736842105,
         23
        ],
        [
         "Alan Jones",
         54,
         354,
         6.555555555555555,
         24
        ],
        [
         "Kimi Räikkönen",
         227,
         1479,
         6.515418502202643,
         25
        ],
        [
         "Jacky Ickx",
         56,
         354,
         6.321428571428571,
         26
        ],
        [
         "David Coulthard",
         146,
         922,
         6.315068493150685,
         27
        ],
        [
         "Graham Hill",
         86,
         542,
         6.3023255813953485,
         28
        ],
        [
         "Jacques Laffite",
         80,
         501,
         6.2625,
         29
        ],
        [
         "Clay Regazzoni",
         71,
         444,
         6.253521126760563,
         30
        ],
        [
         "Ronnie Peterson",
         60,
         375,
         6.25,
         31
        ],
        [
         "Nico Rosberg",
         144,
         899,
         6.243055555555555,
         32
        ],
        [
         "Mario Andretti",
         55,
         342,
         6.218181818181818,
         33
        ],
        [
         "Keke Rosberg",
         52,
         320,
         6.153846153846154,
         34
        ],
        [
         "Rubens Barrichello",
         172,
         1029,
         5.982558139534884,
         35
        ],
        [
         "Elio de Angelis",
         54,
         319,
         5.907407407407407,
         36
        ],
        [
         "Ralf Schumacher",
         105,
         617,
         5.876190476190477,
         37
        ],
        [
         "Eddie Irvine",
         76,
         440,
         5.7894736842105265,
         38
        ],
        [
         "Daniel Ricciardo",
         111,
         639,
         5.756756756756757,
         39
        ],
        [
         "Michele Alboreto",
         74,
         423,
         5.716216216216216,
         40
        ],
        [
         "Mark Webber",
         132,
         753,
         5.704545454545454,
         41
        ],
        [
         "Riccardo Patrese",
         108,
         614,
         5.685185185185185,
         42
        ],
        [
         "Jenson Button",
         180,
         1020,
         5.666666666666667,
         43
        ],
        [
         "Jean Alesi",
         106,
         591,
         5.5754716981132075,
         44
        ],
        [
         "René Arnoux",
         68,
         377,
         5.544117647058823,
         45
        ],
        [
         "Heinz-Harald Frentzen",
         82,
         451,
         5.5,
         46
        ],
        [
         "John Watson",
         75,
         412,
         5.493333333333333,
         47
        ],
        [
         "Robert Kubica",
         52,
         284,
         5.461538461538462,
         48
        ],
        [
         "Jacques Villeneuve",
         86,
         461,
         5.3604651162790695,
         49
        ],
        [
         "Patrick Tambay",
         52,
         277,
         5.326923076923077,
         50
        ],
        [
         "Felipe Massa",
         187,
         960,
         5.133689839572193,
         51
        ],
        [
         "Giancarlo Fisichella",
         112,
         556,
         4.964285714285714,
         52
        ],
        [
         "Thierry Boutsen",
         79,
         382,
         4.8354430379746836,
         53
        ],
        [
         "Martin Brundle",
         69,
         328,
         4.753623188405797,
         54
        ],
        [
         "Jarno Trulli",
         106,
         496,
         4.679245283018868,
         55
        ],
        [
         "Johnny Herbert",
         70,
         317,
         4.5285714285714285,
         56
        ],
        [
         "Derek Warwick",
         55,
         249,
         4.527272727272727,
         57
        ],
        [
         "Nick Heidfeld",
         101,
         447,
         4.425742574257426,
         58
        ],
        [
         "Andrea de Cesaris",
         52,
         219,
         4.211538461538462,
         59
        ],
        [
         "Olivier Panis",
         65,
         269,
         4.138461538461539,
         60
        ],
        [
         "Romain Grosjean",
         59,
         244,
         4.135593220338983,
         61
        ],
        [
         "Sergio Pérez",
         116,
         446,
         3.8448275862068964,
         62
        ],
        [
         "Carlos Sainz",
         65,
         244,
         3.753846153846154,
         63
        ],
        [
         "Nico Hülkenberg",
         97,
         345,
         3.556701030927835,
         64
        ]
       ],
       "datasetInfos": [],
       "dbfsResultPath": null,
       "isJsonSchema": true,
       "metadata": {
        "isDbfsCommandResult": false
       },
       "overflow": false,
       "plotOptions": {
        "customPlotOptions": {},
        "displayType": "table",
        "pivotAggregation": null,
        "pivotColumns": null,
        "xColumns": null,
        "yColumns": null
       },
       "removedWidgets": [],
       "schema": [
        {
         "metadata": "{}",
         "name": "driver_name",
         "type": "\"string\""
        },
        {
         "metadata": "{}",
         "name": "total_races",
         "type": "\"long\""
        },
        {
         "metadata": "{}",
         "name": "total_points",
         "type": "\"long\""
        },
        {
         "metadata": "{}",
         "name": "avg_points",
         "type": "\"double\""
        },
        {
         "metadata": "{}",
         "name": "driver_rank",
         "type": "\"integer\""
        }
       ],
       "type": "table"
      }
     },
     "output_type": "display_data"
    }
   ],
   "source": [
    "SELECT driver_name,\n",
    "       COUNT(*) AS total_races,\n",
    "       SUM(calculated_points) AS total_points,\n",
    "       AVG(calculated_points) AS avg_points,\n",
    "       RANK() OVER(ORDER BY AVG(calculated_points) DESC) driver_rank\n",
    "FROM f1_presentation.calculated_race_results\n",
    "GROUP BY driver_name\n",
    "HAVING COUNT(*) >= 50\n",
    "ORDER BY avg_points DESC"
   ]
  },
  {
   "cell_type": "markdown",
   "metadata": {
    "application/vnd.databricks.v1+cell": {
     "cellMetadata": {},
     "inputWidgets": {},
     "nuid": "b743007b-ef00-40fe-bb4e-c8ac799e0137",
     "showTitle": false,
     "tableResultSettingsMap": {},
     "title": ""
    }
   },
   "source": [
    "## Drivers ordered by their average points (2011-2020)"
   ]
  },
  {
   "cell_type": "code",
   "execution_count": 0,
   "metadata": {
    "application/vnd.databricks.v1+cell": {
     "cellMetadata": {
      "byteLimit": 2048000,
      "rowLimit": 10000
     },
     "inputWidgets": {},
     "nuid": "5bb7ac2e-1900-4119-bd64-f79860b1398b",
     "showTitle": false,
     "tableResultSettingsMap": {
      "0": {
       "dataGridStateBlob": "{\"version\":1,\"tableState\":{\"columnPinning\":{\"left\":[\"#row_number#\"],\"right\":[]},\"columnSizing\":{},\"columnVisibility\":{}},\"settings\":{\"columns\":{}},\"syncTimestamp\":1755035625764}",
       "filterBlob": null,
       "queryPlanFiltersBlob": null,
       "tableResultIndex": 0
      }
     },
     "title": ""
    }
   },
   "outputs": [
    {
     "output_type": "display_data",
     "data": {
      "text/html": [
       "<style scoped>\n",
       "  .table-result-container {\n",
       "    max-height: 300px;\n",
       "    overflow: auto;\n",
       "  }\n",
       "  table, th, td {\n",
       "    border: 1px solid black;\n",
       "    border-collapse: collapse;\n",
       "  }\n",
       "  th, td {\n",
       "    padding: 5px;\n",
       "  }\n",
       "  th {\n",
       "    text-align: left;\n",
       "  }\n",
       "</style><div class='table-result-container'><table class='table-result'><thead style='background-color: white'><tr><th>driver_name</th><th>total_races</th><th>total_points</th><th>avg_points</th><th>driver_rank</th></tr></thead><tbody><tr><td>Lewis Hamilton</td><td>177</td><td>1478</td><td>8.350282485875706</td><td>1</td></tr><tr><td>Sebastian Vettel</td><td>164</td><td>1282</td><td>7.817073170731708</td><td>2</td></tr><tr><td>Nico Rosberg</td><td>93</td><td>673</td><td>7.236559139784946</td><td>3</td></tr><tr><td>Max Verstappen</td><td>88</td><td>605</td><td>6.875</td><td>4</td></tr><tr><td>Valtteri Bottas</td><td>117</td><td>793</td><td>6.777777777777778</td><td>5</td></tr><tr><td>Fernando Alonso</td><td>95</td><td>584</td><td>6.147368421052631</td><td>6</td></tr><tr><td>Kimi Räikkönen</td><td>121</td><td>721</td><td>5.958677685950414</td><td>7</td></tr><tr><td>Daniel Ricciardo</td><td>111</td><td>639</td><td>5.756756756756757</td><td>8</td></tr><tr><td>Jenson Button</td><td>69</td><td>377</td><td>5.463768115942029</td><td>9</td></tr><tr><td>Felipe Massa</td><td>94</td><td>427</td><td>4.542553191489362</td><td>10</td></tr><tr><td>Romain Grosjean</td><td>59</td><td>244</td><td>4.135593220338983</td><td>11</td></tr><tr><td>Sergio Pérez</td><td>116</td><td>446</td><td>3.8448275862068964</td><td>12</td></tr><tr><td>Carlos Sainz</td><td>65</td><td>244</td><td>3.753846153846154</td><td>13</td></tr><tr><td>Nico Hülkenberg</td><td>90</td><td>329</td><td>3.6555555555555554</td><td>14</td></tr></tbody></table></div>"
      ]
     },
     "metadata": {
      "application/vnd.databricks.v1+output": {
       "addedWidgets": {},
       "aggData": [],
       "aggError": "",
       "aggOverflow": false,
       "aggSchema": [],
       "aggSeriesLimitReached": false,
       "aggType": "",
       "arguments": {},
       "columnCustomDisplayInfos": {},
       "data": [
        [
         "Lewis Hamilton",
         177,
         1478,
         8.350282485875706,
         1
        ],
        [
         "Sebastian Vettel",
         164,
         1282,
         7.817073170731708,
         2
        ],
        [
         "Nico Rosberg",
         93,
         673,
         7.236559139784946,
         3
        ],
        [
         "Max Verstappen",
         88,
         605,
         6.875,
         4
        ],
        [
         "Valtteri Bottas",
         117,
         793,
         6.777777777777778,
         5
        ],
        [
         "Fernando Alonso",
         95,
         584,
         6.147368421052631,
         6
        ],
        [
         "Kimi Räikkönen",
         121,
         721,
         5.958677685950414,
         7
        ],
        [
         "Daniel Ricciardo",
         111,
         639,
         5.756756756756757,
         8
        ],
        [
         "Jenson Button",
         69,
         377,
         5.463768115942029,
         9
        ],
        [
         "Felipe Massa",
         94,
         427,
         4.542553191489362,
         10
        ],
        [
         "Romain Grosjean",
         59,
         244,
         4.135593220338983,
         11
        ],
        [
         "Sergio Pérez",
         116,
         446,
         3.8448275862068964,
         12
        ],
        [
         "Carlos Sainz",
         65,
         244,
         3.753846153846154,
         13
        ],
        [
         "Nico Hülkenberg",
         90,
         329,
         3.6555555555555554,
         14
        ]
       ],
       "datasetInfos": [],
       "dbfsResultPath": null,
       "isJsonSchema": true,
       "metadata": {
        "isDbfsCommandResult": false
       },
       "overflow": false,
       "plotOptions": {
        "customPlotOptions": {},
        "displayType": "table",
        "pivotAggregation": null,
        "pivotColumns": null,
        "xColumns": null,
        "yColumns": null
       },
       "removedWidgets": [],
       "schema": [
        {
         "metadata": "{}",
         "name": "driver_name",
         "type": "\"string\""
        },
        {
         "metadata": "{}",
         "name": "total_races",
         "type": "\"long\""
        },
        {
         "metadata": "{}",
         "name": "total_points",
         "type": "\"long\""
        },
        {
         "metadata": "{}",
         "name": "avg_points",
         "type": "\"double\""
        },
        {
         "metadata": "{}",
         "name": "driver_rank",
         "type": "\"integer\""
        }
       ],
       "type": "table"
      }
     },
     "output_type": "display_data"
    }
   ],
   "source": [
    "SELECT driver_name,\n",
    "       COUNT(*) AS total_races,\n",
    "       SUM(calculated_points) AS total_points,\n",
    "       AVG(calculated_points) AS avg_points,\n",
    "       RANK() OVER(ORDER BY AVG(calculated_points) DESC) driver_rank\n",
    "FROM f1_presentation.calculated_race_results\n",
    "WHERE race_year BETWEEN 2011 AND 2020\n",
    "GROUP BY driver_name\n",
    "HAVING total_races >= 50\n",
    "ORDER BY avg_points DESC"
   ]
  },
  {
   "cell_type": "markdown",
   "metadata": {
    "application/vnd.databricks.v1+cell": {
     "cellMetadata": {},
     "inputWidgets": {},
     "nuid": "82ccba6d-66cd-4c14-a5a4-a0c376a3f075",
     "showTitle": false,
     "tableResultSettingsMap": {},
     "title": ""
    }
   },
   "source": [
    "## Performance over the years of the top 10 drivers (all time)\n",
    "1. Create temporary view of the drivers ordered by their average points (all time)\n",
    "2. Create visualizations of the performance over the years of the top 10 drivers of all time"
   ]
  },
  {
   "cell_type": "code",
   "execution_count": 0,
   "metadata": {
    "application/vnd.databricks.v1+cell": {
     "cellMetadata": {
      "byteLimit": 2048000,
      "rowLimit": 10000
     },
     "inputWidgets": {},
     "nuid": "a5098d68-8407-4275-bc6d-1fe2ba087615",
     "showTitle": false,
     "tableResultSettingsMap": {},
     "title": ""
    }
   },
   "outputs": [
    {
     "output_type": "display_data",
     "data": {
      "text/html": [
       "<style scoped>\n",
       "  .table-result-container {\n",
       "    max-height: 300px;\n",
       "    overflow: auto;\n",
       "  }\n",
       "  table, th, td {\n",
       "    border: 1px solid black;\n",
       "    border-collapse: collapse;\n",
       "  }\n",
       "  th, td {\n",
       "    padding: 5px;\n",
       "  }\n",
       "  th {\n",
       "    text-align: left;\n",
       "  }\n",
       "</style><div class='table-result-container'><table class='table-result'><thead style='background-color: white'><tr></tr></thead><tbody></tbody></table></div>"
      ]
     },
     "metadata": {
      "application/vnd.databricks.v1+output": {
       "addedWidgets": {},
       "aggData": [],
       "aggError": "",
       "aggOverflow": false,
       "aggSchema": [],
       "aggSeriesLimitReached": false,
       "aggType": "",
       "arguments": {},
       "columnCustomDisplayInfos": {},
       "data": [],
       "datasetInfos": [],
       "dbfsResultPath": null,
       "isJsonSchema": true,
       "metadata": {
        "isDbfsCommandResult": false
       },
       "overflow": false,
       "plotOptions": {
        "customPlotOptions": {},
        "displayType": "table",
        "pivotAggregation": null,
        "pivotColumns": null,
        "xColumns": null,
        "yColumns": null
       },
       "removedWidgets": [],
       "schema": [],
       "type": "table"
      }
     },
     "output_type": "display_data"
    }
   ],
   "source": [
    "CREATE OR REPLACE TEMP VIEW view_dominant_drivers\n",
    "AS\n",
    "SELECT driver_name,\n",
    "       COUNT(*) AS total_races,\n",
    "       SUM(calculated_points) AS total_points,\n",
    "       AVG(calculated_points) AS avg_points,\n",
    "       RANK() OVER(ORDER BY AVG(calculated_points) DESC) driver_rank\n",
    "FROM f1_presentation.calculated_race_results\n",
    "GROUP BY driver_name\n",
    "HAVING COUNT(*) >= 50\n",
    "ORDER BY avg_points DESC"
   ]
  },
  {
   "cell_type": "code",
   "execution_count": 0,
   "metadata": {
    "application/vnd.databricks.v1+cell": {
     "cellMetadata": {
      "byteLimit": 2048000,
      "rowLimit": 10000
     },
     "inputWidgets": {},
     "nuid": "28d359d4-6b78-4576-8061-7654a543ac5a",
     "showTitle": false,
     "tableResultSettingsMap": {
      "0": {
       "dataGridStateBlob": "{\"version\":1,\"tableState\":{\"columnPinning\":{\"left\":[\"#row_number#\"],\"right\":[]},\"columnSizing\":{},\"columnVisibility\":{}},\"settings\":{\"columns\":{}},\"syncTimestamp\":1755035027213}",
       "filterBlob": null,
       "queryPlanFiltersBlob": null,
       "tableResultIndex": 0
      }
     },
     "title": ""
    }
   },
   "outputs": [
    {
     "output_type": "display_data",
     "data": {
      "text/html": [
       "<style scoped>\n",
       "  .table-result-container {\n",
       "    max-height: 300px;\n",
       "    overflow: auto;\n",
       "  }\n",
       "  table, th, td {\n",
       "    border: 1px solid black;\n",
       "    border-collapse: collapse;\n",
       "  }\n",
       "  th, td {\n",
       "    padding: 5px;\n",
       "  }\n",
       "  th {\n",
       "    text-align: left;\n",
       "  }\n",
       "</style><div class='table-result-container'><table class='table-result'><thead style='background-color: white'><tr><th>race_year</th><th>driver_name</th><th>total_races</th><th>total_points</th><th>avg_points</th></tr></thead><tbody><tr><td>1965</td><td>Jackie Stewart</td><td>7</td><td>56</td><td>8.0</td></tr><tr><td>1966</td><td>Jackie Stewart</td><td>3</td><td>23</td><td>7.666666666666667</td></tr><tr><td>1967</td><td>Jackie Stewart</td><td>2</td><td>17</td><td>8.5</td></tr><tr><td>1968</td><td>Jackie Stewart</td><td>8</td><td>59</td><td>7.375</td></tr><tr><td>1969</td><td>Jackie Stewart</td><td>8</td><td>76</td><td>9.5</td></tr><tr><td>1970</td><td>Jackie Stewart</td><td>5</td><td>38</td><td>7.6</td></tr><tr><td>1971</td><td>Jackie Stewart</td><td>8</td><td>75</td><td>9.375</td></tr><tr><td>1972</td><td>Jackie Stewart</td><td>7</td><td>60</td><td>8.571428571428571</td></tr><tr><td>1972</td><td>Niki Lauda</td><td>3</td><td>7</td><td>2.3333333333333335</td></tr><tr><td>1973</td><td>Jackie Stewart</td><td>13</td><td>103</td><td>7.923076923076923</td></tr><tr><td>1973</td><td>Niki Lauda</td><td>3</td><td>11</td><td>3.6666666666666665</td></tr><tr><td>1974</td><td>Niki Lauda</td><td>6</td><td>53</td><td>8.833333333333334</td></tr><tr><td>1975</td><td>Niki Lauda</td><td>13</td><td>100</td><td>7.6923076923076925</td></tr><tr><td>1976</td><td>Niki Lauda</td><td>11</td><td>94</td><td>8.545454545454545</td></tr><tr><td>1977</td><td>Niki Lauda</td><td>12</td><td>105</td><td>8.75</td></tr><tr><td>1978</td><td>Niki Lauda</td><td>7</td><td>63</td><td>9.0</td></tr><tr><td>1979</td><td>Niki Lauda</td><td>2</td><td>12</td><td>6.0</td></tr><tr><td>1980</td><td>Alain Prost</td><td>6</td><td>29</td><td>4.833333333333333</td></tr><tr><td>1981</td><td>Alain Prost</td><td>6</td><td>56</td><td>9.333333333333334</td></tr><tr><td>1981</td><td>Nigel Mansell</td><td>4</td><td>24</td><td>6.0</td></tr><tr><td>1982</td><td>Niki Lauda</td><td>7</td><td>51</td><td>7.285714285714286</td></tr><tr><td>1982</td><td>Alain Prost</td><td>8</td><td>57</td><td>7.125</td></tr><tr><td>1982</td><td>Nigel Mansell</td><td>6</td><td>28</td><td>4.666666666666667</td></tr><tr><td>1983</td><td>Alain Prost</td><td>11</td><td>86</td><td>7.818181818181818</td></tr><tr><td>1983</td><td>Niki Lauda</td><td>4</td><td>27</td><td>6.75</td></tr><tr><td>1983</td><td>Nigel Mansell</td><td>5</td><td>29</td><td>5.8</td></tr><tr><td>1984</td><td>Niki Lauda</td><td>10</td><td>93</td><td>9.3</td></tr><tr><td>1984</td><td>Alain Prost</td><td>11</td><td>98</td><td>8.909090909090908</td></tr><tr><td>1984</td><td>Nigel Mansell</td><td>5</td><td>33</td><td>6.6</td></tr><tr><td>1984</td><td>Ayrton Senna</td><td>6</td><td>39</td><td>6.5</td></tr><tr><td>1985</td><td>Alain Prost</td><td>12</td><td>107</td><td>8.916666666666666</td></tr><tr><td>1985</td><td>Niki Lauda</td><td>3</td><td>23</td><td>7.666666666666667</td></tr><tr><td>1985</td><td>Ayrton Senna</td><td>8</td><td>59</td><td>7.375</td></tr><tr><td>1985</td><td>Nigel Mansell</td><td>9</td><td>60</td><td>6.666666666666667</td></tr><tr><td>1986</td><td>Nigel Mansell</td><td>12</td><td>103</td><td>8.583333333333334</td></tr><tr><td>1986</td><td>Ayrton Senna</td><td>10</td><td>85</td><td>8.5</td></tr><tr><td>1986</td><td>Alain Prost</td><td>13</td><td>110</td><td>8.461538461538462</td></tr><tr><td>1987</td><td>Nigel Mansell</td><td>9</td><td>79</td><td>8.777777777777779</td></tr><tr><td>1987</td><td>Ayrton Senna</td><td>12</td><td>95</td><td>7.916666666666667</td></tr><tr><td>1987</td><td>Alain Prost</td><td>11</td><td>78</td><td>7.090909090909091</td></tr><tr><td>1988</td><td>Alain Prost</td><td>14</td><td>133</td><td>9.5</td></tr><tr><td>1988</td><td>Nigel Mansell</td><td>2</td><td>18</td><td>9.0</td></tr><tr><td>1988</td><td>Ayrton Senna</td><td>14</td><td>120</td><td>8.571428571428571</td></tr><tr><td>1989</td><td>Ayrton Senna</td><td>8</td><td>73</td><td>9.125</td></tr><tr><td>1989</td><td>Nigel Mansell</td><td>6</td><td>54</td><td>9.0</td></tr><tr><td>1989</td><td>Alain Prost</td><td>13</td><td>115</td><td>8.846153846153847</td></tr><tr><td>1990</td><td>Ayrton Senna</td><td>11</td><td>102</td><td>9.272727272727273</td></tr><tr><td>1990</td><td>Alain Prost</td><td>12</td><td>104</td><td>8.666666666666666</td></tr><tr><td>1990</td><td>Nigel Mansell</td><td>7</td><td>59</td><td>8.428571428571429</td></tr><tr><td>1991</td><td>Nigel Mansell</td><td>10</td><td>91</td><td>9.1</td></tr><tr><td>1991</td><td>Ayrton Senna</td><td>15</td><td>130</td><td>8.666666666666666</td></tr><tr><td>1991</td><td>Alain Prost</td><td>8</td><td>63</td><td>7.875</td></tr><tr><td>1991</td><td>Michael Schumacher</td><td>3</td><td>16</td><td>5.333333333333333</td></tr><tr><td>1992</td><td>Nigel Mansell</td><td>12</td><td>117</td><td>9.75</td></tr><tr><td>1992</td><td>Ayrton Senna</td><td>9</td><td>71</td><td>7.888888888888889</td></tr><tr><td>1992</td><td>Michael Schumacher</td><td>12</td><td>94</td><td>7.833333333333333</td></tr><tr><td>1993</td><td>Alain Prost</td><td>13</td><td>120</td><td>9.23076923076923</td></tr><tr><td>1993</td><td>Damon Hill</td><td>11</td><td>97</td><td>8.818181818181818</td></tr><tr><td>1993</td><td>Michael Schumacher</td><td>9</td><td>79</td><td>8.777777777777779</td></tr><tr><td>1993</td><td>Ayrton Senna</td><td>11</td><td>95</td><td>8.636363636363637</td></tr><tr><td>1994</td><td>Michael Schumacher</td><td>10</td><td>98</td><td>9.8</td></tr><tr><td>1994</td><td>Damon Hill</td><td>13</td><td>113</td><td>8.692307692307692</td></tr><tr><td>1994</td><td>Nigel Mansell</td><td>2</td><td>17</td><td>8.5</td></tr><tr><td>1995</td><td>Michael Schumacher</td><td>12</td><td>113</td><td>9.416666666666666</td></tr><tr><td>1995</td><td>Damon Hill</td><td>10</td><td>90</td><td>9.0</td></tr><tr><td>1995</td><td>Nigel Mansell</td><td>1</td><td>1</td><td>1.0</td></tr><tr><td>1996</td><td>Damon Hill</td><td>12</td><td>111</td><td>9.25</td></tr><tr><td>1996</td><td>Michael Schumacher</td><td>10</td><td>82</td><td>8.2</td></tr><tr><td>1997</td><td>Michael Schumacher</td><td>13</td><td>107</td><td>8.23076923076923</td></tr><tr><td>1997</td><td>Damon Hill</td><td>6</td><td>26</td><td>4.333333333333333</td></tr><tr><td>1998</td><td>Michael Schumacher</td><td>13</td><td>109</td><td>8.384615384615385</td></tr><tr><td>1998</td><td>Damon Hill</td><td>11</td><td>52</td><td>4.7272727272727275</td></tr><tr><td>1999</td><td>Michael Schumacher</td><td>8</td><td>64</td><td>8.0</td></tr><tr><td>1999</td><td>Damon Hill</td><td>7</td><td>31</td><td>4.428571428571429</td></tr><tr><td>2000</td><td>Michael Schumacher</td><td>13</td><td>122</td><td>9.384615384615385</td></tr><tr><td>2001</td><td>Michael Schumacher</td><td>15</td><td>142</td><td>9.466666666666667</td></tr><tr><td>2001</td><td>Juan Pablo Montoya</td><td>6</td><td>47</td><td>7.833333333333333</td></tr><tr><td>2002</td><td>Michael Schumacher</td><td>17</td><td>163</td><td>9.588235294117647</td></tr><tr><td>2002</td><td>Juan Pablo Montoya</td><td>12</td><td>94</td><td>7.833333333333333</td></tr><tr><td>2003</td><td>Juan Pablo Montoya</td><td>12</td><td>97</td><td>8.083333333333334</td></tr><tr><td>2003</td><td>Michael Schumacher</td><td>15</td><td>111</td><td>7.4</td></tr><tr><td>2004</td><td>Michael Schumacher</td><td>16</td><td>152</td><td>9.5</td></tr><tr><td>2004</td><td>Juan Pablo Montoya</td><td>13</td><td>81</td><td>6.230769230769231</td></tr><tr><td>2005</td><td>Juan Pablo Montoya</td><td>10</td><td>73</td><td>7.3</td></tr><tr><td>2005</td><td>Michael Schumacher</td><td>13</td><td>82</td><td>6.3076923076923075</td></tr><tr><td>2006</td><td>Michael Schumacher</td><td>16</td><td>135</td><td>8.4375</td></tr><tr><td>2006</td><td>Juan Pablo Montoya</td><td>5</td><td>35</td><td>7.0</td></tr><tr><td>2007</td><td>Lewis Hamilton</td><td>16</td><td>128</td><td>8.0</td></tr><tr><td>2007</td><td>Sebastian Vettel</td><td>2</td><td>10</td><td>5.0</td></tr><tr><td>2008</td><td>Lewis Hamilton</td><td>15</td><td>115</td><td>7.666666666666667</td></tr><tr><td>2008</td><td>Sebastian Vettel</td><td>10</td><td>53</td><td>5.3</td></tr><tr><td>2009</td><td>Sebastian Vettel</td><td>12</td><td>98</td><td>8.166666666666666</td></tr><tr><td>2009</td><td>Lewis Hamilton</td><td>9</td><td>63</td><td>7.0</td></tr><tr><td>2010</td><td>Sebastian Vettel</td><td>15</td><td>122</td><td>8.133333333333333</td></tr><tr><td>2010</td><td>Lewis Hamilton</td><td>15</td><td>119</td><td>7.933333333333334</td></tr><tr><td>2010</td><td>Michael Schumacher</td><td>12</td><td>47</td><td>3.9166666666666665</td></tr><tr><td>2011</td><td>Sebastian Vettel</td><td>18</td><td>170</td><td>9.444444444444445</td></tr><tr><td>2011</td><td>Lewis Hamilton</td><td>16</td><td>116</td><td>7.25</td></tr><tr><td>2011</td><td>Michael Schumacher</td><td>11</td><td>49</td><td>4.454545454545454</td></tr><tr><td>2012</td><td>Sebastian Vettel</td><td>17</td><td>136</td><td>8.0</td></tr><tr><td>2012</td><td>Lewis Hamilton</td><td>14</td><td>93</td><td>6.642857142857143</td></tr><tr><td>2012</td><td>Michael Schumacher</td><td>8</td><td>31</td><td>3.875</td></tr><tr><td>2013</td><td>Sebastian Vettel</td><td>18</td><td>169</td><td>9.38888888888889</td></tr><tr><td>2013</td><td>Lewis Hamilton</td><td>17</td><td>106</td><td>6.235294117647059</td></tr><tr><td>2014</td><td>Lewis Hamilton</td><td>16</td><td>153</td><td>9.5625</td></tr><tr><td>2014</td><td>Sebastian Vettel</td><td>16</td><td>95</td><td>5.9375</td></tr><tr><td>2015</td><td>Lewis Hamilton</td><td>18</td><td>167</td><td>9.277777777777779</td></tr><tr><td>2015</td><td>Sebastian Vettel</td><td>17</td><td>139</td><td>8.176470588235293</td></tr><tr><td>2016</td><td>Lewis Hamilton</td><td>19</td><td>169</td><td>8.894736842105264</td></tr><tr><td>2016</td><td>Sebastian Vettel</td><td>17</td><td>118</td><td>6.9411764705882355</td></tr><tr><td>2017</td><td>Sebastian Vettel</td><td>18</td><td>152</td><td>8.444444444444445</td></tr><tr><td>2017</td><td>Lewis Hamilton</td><td>20</td><td>166</td><td>8.3</td></tr><tr><td>2018</td><td>Lewis Hamilton</td><td>20</td><td>181</td><td>9.05</td></tr><tr><td>2018</td><td>Sebastian Vettel</td><td>20</td><td>157</td><td>7.85</td></tr><tr><td>2019</td><td>Lewis Hamilton</td><td>21</td><td>181</td><td>8.619047619047619</td></tr><tr><td>2019</td><td>Sebastian Vettel</td><td>16</td><td>125</td><td>7.8125</td></tr><tr><td>2020</td><td>Lewis Hamilton</td><td>16</td><td>146</td><td>9.125</td></tr><tr><td>2020</td><td>Sebastian Vettel</td><td>7</td><td>21</td><td>3.0</td></tr></tbody></table></div>"
      ]
     },
     "metadata": {
      "application/vnd.databricks.v1+output": {
       "addedWidgets": {},
       "aggData": [],
       "aggError": "",
       "aggOverflow": false,
       "aggSchema": [],
       "aggSeriesLimitReached": false,
       "aggType": "",
       "arguments": {},
       "columnCustomDisplayInfos": {},
       "data": [
        [
         1965,
         "Jackie Stewart",
         7,
         56,
         8.0
        ],
        [
         1966,
         "Jackie Stewart",
         3,
         23,
         7.666666666666667
        ],
        [
         1967,
         "Jackie Stewart",
         2,
         17,
         8.5
        ],
        [
         1968,
         "Jackie Stewart",
         8,
         59,
         7.375
        ],
        [
         1969,
         "Jackie Stewart",
         8,
         76,
         9.5
        ],
        [
         1970,
         "Jackie Stewart",
         5,
         38,
         7.6
        ],
        [
         1971,
         "Jackie Stewart",
         8,
         75,
         9.375
        ],
        [
         1972,
         "Jackie Stewart",
         7,
         60,
         8.571428571428571
        ],
        [
         1972,
         "Niki Lauda",
         3,
         7,
         2.3333333333333335
        ],
        [
         1973,
         "Jackie Stewart",
         13,
         103,
         7.923076923076923
        ],
        [
         1973,
         "Niki Lauda",
         3,
         11,
         3.6666666666666665
        ],
        [
         1974,
         "Niki Lauda",
         6,
         53,
         8.833333333333334
        ],
        [
         1975,
         "Niki Lauda",
         13,
         100,
         7.6923076923076925
        ],
        [
         1976,
         "Niki Lauda",
         11,
         94,
         8.545454545454545
        ],
        [
         1977,
         "Niki Lauda",
         12,
         105,
         8.75
        ],
        [
         1978,
         "Niki Lauda",
         7,
         63,
         9.0
        ],
        [
         1979,
         "Niki Lauda",
         2,
         12,
         6.0
        ],
        [
         1980,
         "Alain Prost",
         6,
         29,
         4.833333333333333
        ],
        [
         1981,
         "Alain Prost",
         6,
         56,
         9.333333333333334
        ],
        [
         1981,
         "Nigel Mansell",
         4,
         24,
         6.0
        ],
        [
         1982,
         "Niki Lauda",
         7,
         51,
         7.285714285714286
        ],
        [
         1982,
         "Alain Prost",
         8,
         57,
         7.125
        ],
        [
         1982,
         "Nigel Mansell",
         6,
         28,
         4.666666666666667
        ],
        [
         1983,
         "Alain Prost",
         11,
         86,
         7.818181818181818
        ],
        [
         1983,
         "Niki Lauda",
         4,
         27,
         6.75
        ],
        [
         1983,
         "Nigel Mansell",
         5,
         29,
         5.8
        ],
        [
         1984,
         "Niki Lauda",
         10,
         93,
         9.3
        ],
        [
         1984,
         "Alain Prost",
         11,
         98,
         8.909090909090908
        ],
        [
         1984,
         "Nigel Mansell",
         5,
         33,
         6.6
        ],
        [
         1984,
         "Ayrton Senna",
         6,
         39,
         6.5
        ],
        [
         1985,
         "Alain Prost",
         12,
         107,
         8.916666666666666
        ],
        [
         1985,
         "Niki Lauda",
         3,
         23,
         7.666666666666667
        ],
        [
         1985,
         "Ayrton Senna",
         8,
         59,
         7.375
        ],
        [
         1985,
         "Nigel Mansell",
         9,
         60,
         6.666666666666667
        ],
        [
         1986,
         "Nigel Mansell",
         12,
         103,
         8.583333333333334
        ],
        [
         1986,
         "Ayrton Senna",
         10,
         85,
         8.5
        ],
        [
         1986,
         "Alain Prost",
         13,
         110,
         8.461538461538462
        ],
        [
         1987,
         "Nigel Mansell",
         9,
         79,
         8.777777777777779
        ],
        [
         1987,
         "Ayrton Senna",
         12,
         95,
         7.916666666666667
        ],
        [
         1987,
         "Alain Prost",
         11,
         78,
         7.090909090909091
        ],
        [
         1988,
         "Alain Prost",
         14,
         133,
         9.5
        ],
        [
         1988,
         "Nigel Mansell",
         2,
         18,
         9.0
        ],
        [
         1988,
         "Ayrton Senna",
         14,
         120,
         8.571428571428571
        ],
        [
         1989,
         "Ayrton Senna",
         8,
         73,
         9.125
        ],
        [
         1989,
         "Nigel Mansell",
         6,
         54,
         9.0
        ],
        [
         1989,
         "Alain Prost",
         13,
         115,
         8.846153846153847
        ],
        [
         1990,
         "Ayrton Senna",
         11,
         102,
         9.272727272727273
        ],
        [
         1990,
         "Alain Prost",
         12,
         104,
         8.666666666666666
        ],
        [
         1990,
         "Nigel Mansell",
         7,
         59,
         8.428571428571429
        ],
        [
         1991,
         "Nigel Mansell",
         10,
         91,
         9.1
        ],
        [
         1991,
         "Ayrton Senna",
         15,
         130,
         8.666666666666666
        ],
        [
         1991,
         "Alain Prost",
         8,
         63,
         7.875
        ],
        [
         1991,
         "Michael Schumacher",
         3,
         16,
         5.333333333333333
        ],
        [
         1992,
         "Nigel Mansell",
         12,
         117,
         9.75
        ],
        [
         1992,
         "Ayrton Senna",
         9,
         71,
         7.888888888888889
        ],
        [
         1992,
         "Michael Schumacher",
         12,
         94,
         7.833333333333333
        ],
        [
         1993,
         "Alain Prost",
         13,
         120,
         9.23076923076923
        ],
        [
         1993,
         "Damon Hill",
         11,
         97,
         8.818181818181818
        ],
        [
         1993,
         "Michael Schumacher",
         9,
         79,
         8.777777777777779
        ],
        [
         1993,
         "Ayrton Senna",
         11,
         95,
         8.636363636363637
        ],
        [
         1994,
         "Michael Schumacher",
         10,
         98,
         9.8
        ],
        [
         1994,
         "Damon Hill",
         13,
         113,
         8.692307692307692
        ],
        [
         1994,
         "Nigel Mansell",
         2,
         17,
         8.5
        ],
        [
         1995,
         "Michael Schumacher",
         12,
         113,
         9.416666666666666
        ],
        [
         1995,
         "Damon Hill",
         10,
         90,
         9.0
        ],
        [
         1995,
         "Nigel Mansell",
         1,
         1,
         1.0
        ],
        [
         1996,
         "Damon Hill",
         12,
         111,
         9.25
        ],
        [
         1996,
         "Michael Schumacher",
         10,
         82,
         8.2
        ],
        [
         1997,
         "Michael Schumacher",
         13,
         107,
         8.23076923076923
        ],
        [
         1997,
         "Damon Hill",
         6,
         26,
         4.333333333333333
        ],
        [
         1998,
         "Michael Schumacher",
         13,
         109,
         8.384615384615385
        ],
        [
         1998,
         "Damon Hill",
         11,
         52,
         4.7272727272727275
        ],
        [
         1999,
         "Michael Schumacher",
         8,
         64,
         8.0
        ],
        [
         1999,
         "Damon Hill",
         7,
         31,
         4.428571428571429
        ],
        [
         2000,
         "Michael Schumacher",
         13,
         122,
         9.384615384615385
        ],
        [
         2001,
         "Michael Schumacher",
         15,
         142,
         9.466666666666667
        ],
        [
         2001,
         "Juan Pablo Montoya",
         6,
         47,
         7.833333333333333
        ],
        [
         2002,
         "Michael Schumacher",
         17,
         163,
         9.588235294117647
        ],
        [
         2002,
         "Juan Pablo Montoya",
         12,
         94,
         7.833333333333333
        ],
        [
         2003,
         "Juan Pablo Montoya",
         12,
         97,
         8.083333333333334
        ],
        [
         2003,
         "Michael Schumacher",
         15,
         111,
         7.4
        ],
        [
         2004,
         "Michael Schumacher",
         16,
         152,
         9.5
        ],
        [
         2004,
         "Juan Pablo Montoya",
         13,
         81,
         6.230769230769231
        ],
        [
         2005,
         "Juan Pablo Montoya",
         10,
         73,
         7.3
        ],
        [
         2005,
         "Michael Schumacher",
         13,
         82,
         6.3076923076923075
        ],
        [
         2006,
         "Michael Schumacher",
         16,
         135,
         8.4375
        ],
        [
         2006,
         "Juan Pablo Montoya",
         5,
         35,
         7.0
        ],
        [
         2007,
         "Lewis Hamilton",
         16,
         128,
         8.0
        ],
        [
         2007,
         "Sebastian Vettel",
         2,
         10,
         5.0
        ],
        [
         2008,
         "Lewis Hamilton",
         15,
         115,
         7.666666666666667
        ],
        [
         2008,
         "Sebastian Vettel",
         10,
         53,
         5.3
        ],
        [
         2009,
         "Sebastian Vettel",
         12,
         98,
         8.166666666666666
        ],
        [
         2009,
         "Lewis Hamilton",
         9,
         63,
         7.0
        ],
        [
         2010,
         "Sebastian Vettel",
         15,
         122,
         8.133333333333333
        ],
        [
         2010,
         "Lewis Hamilton",
         15,
         119,
         7.933333333333334
        ],
        [
         2010,
         "Michael Schumacher",
         12,
         47,
         3.9166666666666665
        ],
        [
         2011,
         "Sebastian Vettel",
         18,
         170,
         9.444444444444445
        ],
        [
         2011,
         "Lewis Hamilton",
         16,
         116,
         7.25
        ],
        [
         2011,
         "Michael Schumacher",
         11,
         49,
         4.454545454545454
        ],
        [
         2012,
         "Sebastian Vettel",
         17,
         136,
         8.0
        ],
        [
         2012,
         "Lewis Hamilton",
         14,
         93,
         6.642857142857143
        ],
        [
         2012,
         "Michael Schumacher",
         8,
         31,
         3.875
        ],
        [
         2013,
         "Sebastian Vettel",
         18,
         169,
         9.38888888888889
        ],
        [
         2013,
         "Lewis Hamilton",
         17,
         106,
         6.235294117647059
        ],
        [
         2014,
         "Lewis Hamilton",
         16,
         153,
         9.5625
        ],
        [
         2014,
         "Sebastian Vettel",
         16,
         95,
         5.9375
        ],
        [
         2015,
         "Lewis Hamilton",
         18,
         167,
         9.277777777777779
        ],
        [
         2015,
         "Sebastian Vettel",
         17,
         139,
         8.176470588235293
        ],
        [
         2016,
         "Lewis Hamilton",
         19,
         169,
         8.894736842105264
        ],
        [
         2016,
         "Sebastian Vettel",
         17,
         118,
         6.9411764705882355
        ],
        [
         2017,
         "Sebastian Vettel",
         18,
         152,
         8.444444444444445
        ],
        [
         2017,
         "Lewis Hamilton",
         20,
         166,
         8.3
        ],
        [
         2018,
         "Lewis Hamilton",
         20,
         181,
         9.05
        ],
        [
         2018,
         "Sebastian Vettel",
         20,
         157,
         7.85
        ],
        [
         2019,
         "Lewis Hamilton",
         21,
         181,
         8.619047619047619
        ],
        [
         2019,
         "Sebastian Vettel",
         16,
         125,
         7.8125
        ],
        [
         2020,
         "Lewis Hamilton",
         16,
         146,
         9.125
        ],
        [
         2020,
         "Sebastian Vettel",
         7,
         21,
         3.0
        ]
       ],
       "datasetInfos": [],
       "dbfsResultPath": null,
       "isJsonSchema": true,
       "metadata": {
        "isDbfsCommandResult": false
       },
       "overflow": false,
       "plotOptions": {
        "customPlotOptions": {},
        "displayType": "table",
        "pivotAggregation": null,
        "pivotColumns": null,
        "xColumns": null,
        "yColumns": null
       },
       "removedWidgets": [],
       "schema": [
        {
         "metadata": "{}",
         "name": "race_year",
         "type": "\"integer\""
        },
        {
         "metadata": "{}",
         "name": "driver_name",
         "type": "\"string\""
        },
        {
         "metadata": "{}",
         "name": "total_races",
         "type": "\"long\""
        },
        {
         "metadata": "{}",
         "name": "total_points",
         "type": "\"long\""
        },
        {
         "metadata": "{}",
         "name": "avg_points",
         "type": "\"double\""
        }
       ],
       "type": "table"
      }
     },
     "output_type": "display_data"
    },
    {
     "output_type": "display_data",
     "data": {
      "text/plain": [
       "Databricks visualization. Run in Databricks to view."
      ]
     },
     "metadata": {
      "application/vnd.databricks.v1.subcommand+json": {
       "baseErrorDetails": null,
       "bindings": {},
       "collapsed": false,
       "command": "%sql WITH q AS (SELECT race_year,\n       driver_name,\n       COUNT(*) AS total_races,\n       SUM(calculated_points) AS total_points,\n       AVG(calculated_points) AS avg_points\nFROM f1_presentation.calculated_race_results\nWHERE driver_name IN (SELECT driver_name FROM view_dominant_drivers WHERE driver_rank <= 10)\nGROUP BY race_year, driver_name\nORDER BY race_year, avg_points DESC) SELECT `race_year`,`avg_points`,`driver_name` FROM q",
       "commandTitle": "Top 10 drivers (all time)",
       "commandType": "auto",
       "commandVersion": 0,
       "commentThread": [],
       "commentsVisible": false,
       "contentSha256Hex": null,
       "customPlotOptions": {
        "redashChart": [
         {
          "key": "type",
          "value": "CHART"
         },
         {
          "key": "options",
          "value": {
           "alignYAxesAtZero": true,
           "coefficient": 1,
           "columnConfigurationMap": {
            "series": {
             "column": "driver_name",
             "id": "column_cefbe0b2417"
            },
            "x": {
             "column": "race_year",
             "id": "column_cefbe0b2416"
            },
            "y": [
             {
              "column": "avg_points",
              "id": "column_cefbe0b2422"
             }
            ]
           },
           "dateTimeFormat": "DD/MM/YYYY HH:mm",
           "direction": {
            "type": "counterclockwise"
           },
           "error_y": {
            "type": "data",
            "visible": true
           },
           "globalSeriesType": "area",
           "hideXAxis": false,
           "isAggregationOn": false,
           "legend": {
            "traceorder": "normal"
           },
           "missingValuesAsZero": true,
           "numberFormat": "0,0.[00000]",
           "percentFormat": "0[.]00%",
           "series": {
            "error_y": {
             "type": "data",
             "visible": true
            },
            "stacking": null
           },
           "seriesOptions": {
            "avg_points": {
             "type": "area",
             "yAxis": 0
            },
            "column_cefbe0b2419": {
             "type": "area",
             "yAxis": 0
            },
            "column_cefbe0b2422": {
             "type": "area",
             "yAxis": 0
            }
           },
           "showDataLabels": false,
           "sizemode": "diameter",
           "sortX": true,
           "sortY": true,
           "swappedAxes": false,
           "textFormat": "",
           "useAggregationsUi": true,
           "valuesOptions": {},
           "version": 2,
           "xAxis": {
            "labels": {
             "enabled": true
            },
            "title": {
             "text": "Year"
            },
            "type": "-"
           },
           "yAxis": [
            {
             "title": {
              "text": "Average points"
             },
             "type": "-"
            },
            {
             "opposite": true,
             "type": "-"
            }
           ]
          }
         }
        ]
       },
       "datasetPreviewNameToCmdIdMap": {},
       "diffDeletes": [],
       "diffInserts": [],
       "displayType": "redashChart",
       "error": null,
       "errorDetails": null,
       "errorSummary": null,
       "errorTraceType": null,
       "finishTime": 0,
       "globalVars": {},
       "guid": "",
       "height": "auto",
       "hideCommandCode": false,
       "hideCommandResult": false,
       "iPythonMetadata": null,
       "inputWidgets": {},
       "isLockedInExamMode": false,
       "latestUser": "a user",
       "latestUserId": null,
       "listResultMetadata": null,
       "metadata": {},
       "nuid": "acabd2d9-e61c-4c30-95e7-4f893828365e",
       "origId": 0,
       "parentHierarchy": [],
       "pivotAggregation": null,
       "pivotColumns": null,
       "position": 8.0,
       "resultDbfsErrorMessage": null,
       "resultDbfsStatus": "INLINED_IN_TREE",
       "results": null,
       "showCommandTitle": false,
       "startTime": 0,
       "state": "input",
       "streamStates": {},
       "subcommandOptions": {
        "queryPlan": {
         "selects": [
          {
           "column": "race_year",
           "type": "column"
          },
          {
           "column": "avg_points",
           "type": "column"
          },
          {
           "column": "driver_name",
           "type": "column"
          }
         ]
        }
       },
       "submitTime": 0,
       "subtype": "tableResultSubCmd.visualization",
       "tableResultIndex": 0,
       "tableResultSettingsMap": {},
       "useConsistentColors": false,
       "version": "CommandV1",
       "width": "auto",
       "workflows": [],
       "xColumns": null,
       "yColumns": null
      }
     },
     "output_type": "display_data"
    },
    {
     "output_type": "display_data",
     "data": {
      "text/plain": [
       "Databricks visualization. Run in Databricks to view."
      ]
     },
     "metadata": {
      "application/vnd.databricks.v1.subcommand+json": {
       "baseErrorDetails": null,
       "bindings": {},
       "collapsed": false,
       "command": "%sql WITH q AS (SELECT race_year,\n       driver_name,\n       COUNT(*) AS total_races,\n       SUM(calculated_points) AS total_points,\n       AVG(calculated_points) AS avg_points\nFROM f1_presentation.calculated_race_results\nWHERE driver_name IN (SELECT driver_name FROM view_dominant_drivers WHERE driver_rank <= 10)\nGROUP BY race_year, driver_name\nORDER BY race_year, avg_points DESC) SELECT `driver_name`,SUM(`total_races`) `column_cefbe0b2445`,SUM(`total_points`) `column_cefbe0b2448` FROM q GROUP BY `driver_name`",
       "commandTitle": "Total races vs total points",
       "commandType": "auto",
       "commandVersion": 0,
       "commentThread": [],
       "commentsVisible": false,
       "contentSha256Hex": null,
       "customPlotOptions": {
        "redashChart": [
         {
          "key": "type",
          "value": "CHART"
         },
         {
          "key": "options",
          "value": {
           "alignYAxesAtZero": true,
           "coefficient": 1,
           "columnConfigurationMap": {
            "x": {
             "column": "driver_name",
             "id": "column_cefbe0b2443"
            },
            "y": [
             {
              "column": "total_races",
              "id": "column_cefbe0b2445",
              "transform": "SUM"
             },
             {
              "column": "total_points",
              "id": "column_cefbe0b2448",
              "transform": "SUM"
             }
            ]
           },
           "dateTimeFormat": "DD/MM/YYYY HH:mm",
           "direction": {
            "type": "counterclockwise"
           },
           "error_y": {
            "type": "data",
            "visible": true
           },
           "globalSeriesType": "column",
           "isAggregationOn": true,
           "legend": {
            "traceorder": "normal"
           },
           "missingValuesAsZero": true,
           "numberFormat": "0,0.[00000]",
           "percentFormat": "0[.]00%",
           "series": {
            "error_y": {
             "type": "data",
             "visible": true
            },
            "stacking": null
           },
           "seriesOptions": {
            "column_cefbe0b2445": {
             "name": "Total races",
             "type": "column",
             "yAxis": 0
            },
            "column_cefbe0b2448": {
             "name": "Total points",
             "type": "column",
             "yAxis": 0
            }
           },
           "showDataLabels": false,
           "sizemode": "diameter",
           "sortX": true,
           "sortY": true,
           "swappedAxes": false,
           "textFormat": "",
           "useAggregationsUi": true,
           "valuesOptions": {},
           "version": 2,
           "xAxis": {
            "labels": {
             "enabled": true
            },
            "title": {
             "text": "Driver"
            },
            "type": "-"
           },
           "yAxis": [
            {
             "title": {
              "text": "Total"
             },
             "type": "-"
            },
            {
             "opposite": true,
             "type": "-"
            }
           ]
          }
         }
        ]
       },
       "datasetPreviewNameToCmdIdMap": {},
       "diffDeletes": [],
       "diffInserts": [],
       "displayType": "redashChart",
       "error": null,
       "errorDetails": null,
       "errorSummary": null,
       "errorTraceType": null,
       "finishTime": 0,
       "globalVars": {},
       "guid": "",
       "height": "auto",
       "hideCommandCode": false,
       "hideCommandResult": false,
       "iPythonMetadata": null,
       "inputWidgets": {},
       "isLockedInExamMode": false,
       "latestUser": "a user",
       "latestUserId": null,
       "listResultMetadata": null,
       "metadata": {},
       "nuid": "726c3d4e-b2a0-4702-964b-51e6059c46ba",
       "origId": 0,
       "parentHierarchy": [],
       "pivotAggregation": null,
       "pivotColumns": null,
       "position": 9.0,
       "resultDbfsErrorMessage": null,
       "resultDbfsStatus": "INLINED_IN_TREE",
       "results": null,
       "showCommandTitle": false,
       "startTime": 0,
       "state": "input",
       "streamStates": {},
       "subcommandOptions": {
        "queryPlan": {
         "groups": [
          {
           "column": "driver_name",
           "type": "column"
          }
         ],
         "selects": [
          {
           "column": "driver_name",
           "type": "column"
          },
          {
           "alias": "column_cefbe0b2445",
           "args": [
            {
             "column": "total_races",
             "type": "column"
            }
           ],
           "function": "SUM",
           "type": "function"
          },
          {
           "alias": "column_cefbe0b2448",
           "args": [
            {
             "column": "total_points",
             "type": "column"
            }
           ],
           "function": "SUM",
           "type": "function"
          }
         ]
        }
       },
       "submitTime": 0,
       "subtype": "tableResultSubCmd.visualization",
       "tableResultIndex": 0,
       "tableResultSettingsMap": {},
       "useConsistentColors": false,
       "version": "CommandV1",
       "width": "auto",
       "workflows": [],
       "xColumns": null,
       "yColumns": null
      }
     },
     "output_type": "display_data"
    }
   ],
   "source": [
    "SELECT race_year,\n",
    "       driver_name,\n",
    "       COUNT(*) AS total_races,\n",
    "       SUM(calculated_points) AS total_points,\n",
    "       AVG(calculated_points) AS avg_points\n",
    "FROM f1_presentation.calculated_race_results\n",
    "WHERE driver_name IN (SELECT driver_name FROM view_dominant_drivers WHERE driver_rank <= 10)\n",
    "GROUP BY race_year, driver_name\n",
    "ORDER BY race_year, avg_points DESC"
   ]
  },
  {
   "cell_type": "markdown",
   "metadata": {
    "application/vnd.databricks.v1+cell": {
     "cellMetadata": {},
     "inputWidgets": {},
     "nuid": "01f7a967-3c8e-4ab0-b440-bbef23c4c13e",
     "showTitle": false,
     "tableResultSettingsMap": {},
     "title": ""
    }
   },
   "source": [
    "## Performance over the years of the top 10 drivers (2011 - 2020)\n",
    "1. Create temporary view of the drivers ordered by their average points (2011 - 2020)\n",
    "2. Create visualizations of the performance over the years of the top 10 drivers of all time"
   ]
  },
  {
   "cell_type": "code",
   "execution_count": 0,
   "metadata": {
    "application/vnd.databricks.v1+cell": {
     "cellMetadata": {
      "byteLimit": 2048000,
      "rowLimit": 10000
     },
     "inputWidgets": {},
     "nuid": "1d4f8d08-215a-4445-8e9f-bd5ca26aba19",
     "showTitle": false,
     "tableResultSettingsMap": {},
     "title": ""
    }
   },
   "outputs": [
    {
     "output_type": "display_data",
     "data": {
      "text/html": [
       "<style scoped>\n",
       "  .table-result-container {\n",
       "    max-height: 300px;\n",
       "    overflow: auto;\n",
       "  }\n",
       "  table, th, td {\n",
       "    border: 1px solid black;\n",
       "    border-collapse: collapse;\n",
       "  }\n",
       "  th, td {\n",
       "    padding: 5px;\n",
       "  }\n",
       "  th {\n",
       "    text-align: left;\n",
       "  }\n",
       "</style><div class='table-result-container'><table class='table-result'><thead style='background-color: white'><tr></tr></thead><tbody></tbody></table></div>"
      ]
     },
     "metadata": {
      "application/vnd.databricks.v1+output": {
       "addedWidgets": {},
       "aggData": [],
       "aggError": "",
       "aggOverflow": false,
       "aggSchema": [],
       "aggSeriesLimitReached": false,
       "aggType": "",
       "arguments": {},
       "columnCustomDisplayInfos": {},
       "data": [],
       "datasetInfos": [],
       "dbfsResultPath": null,
       "isJsonSchema": true,
       "metadata": {
        "isDbfsCommandResult": false
       },
       "overflow": false,
       "plotOptions": {
        "customPlotOptions": {},
        "displayType": "table",
        "pivotAggregation": null,
        "pivotColumns": null,
        "xColumns": null,
        "yColumns": null
       },
       "removedWidgets": [],
       "schema": [],
       "type": "table"
      }
     },
     "output_type": "display_data"
    }
   ],
   "source": [
    "CREATE OR REPLACE TEMP VIEW view_dominant_drivers_recent\n",
    "AS\n",
    "SELECT driver_name,\n",
    "       COUNT(*) AS total_races,\n",
    "       SUM(calculated_points) AS total_points,\n",
    "       AVG(calculated_points) AS avg_points,\n",
    "       RANK() OVER(ORDER BY AVG(calculated_points) DESC) driver_rank\n",
    "FROM f1_presentation.calculated_race_results\n",
    "WHERE race_year BETWEEN 2011 AND 2020\n",
    "GROUP BY driver_name\n",
    "HAVING COUNT(*) >= 50\n",
    "ORDER BY avg_points DESC"
   ]
  },
  {
   "cell_type": "code",
   "execution_count": 0,
   "metadata": {
    "application/vnd.databricks.v1+cell": {
     "cellMetadata": {
      "byteLimit": 2048000,
      "rowLimit": 10000
     },
     "inputWidgets": {},
     "nuid": "2fda49f1-5781-445b-b122-22f1ae2457cd",
     "showTitle": false,
     "tableResultSettingsMap": {},
     "title": ""
    }
   },
   "outputs": [
    {
     "output_type": "display_data",
     "data": {
      "text/html": [
       "<style scoped>\n",
       "  .table-result-container {\n",
       "    max-height: 300px;\n",
       "    overflow: auto;\n",
       "  }\n",
       "  table, th, td {\n",
       "    border: 1px solid black;\n",
       "    border-collapse: collapse;\n",
       "  }\n",
       "  th, td {\n",
       "    padding: 5px;\n",
       "  }\n",
       "  th {\n",
       "    text-align: left;\n",
       "  }\n",
       "</style><div class='table-result-container'><table class='table-result'><thead style='background-color: white'><tr><th>race_year</th><th>driver_name</th><th>total_races</th><th>total_points</th><th>avg_points</th></tr></thead><tbody><tr><td>2011</td><td>Sebastian Vettel</td><td>18</td><td>170</td><td>9.444444444444445</td></tr><tr><td>2011</td><td>Jenson Button</td><td>17</td><td>135</td><td>7.9411764705882355</td></tr><tr><td>2011</td><td>Fernando Alonso</td><td>18</td><td>136</td><td>7.555555555555555</td></tr><tr><td>2011</td><td>Lewis Hamilton</td><td>16</td><td>116</td><td>7.25</td></tr><tr><td>2011</td><td>Felipe Massa</td><td>15</td><td>74</td><td>4.933333333333334</td></tr><tr><td>2011</td><td>Nico Rosberg</td><td>14</td><td>58</td><td>4.142857142857143</td></tr><tr><td>2012</td><td>Sebastian Vettel</td><td>17</td><td>136</td><td>8.0</td></tr><tr><td>2012</td><td>Fernando Alonso</td><td>18</td><td>139</td><td>7.722222222222222</td></tr><tr><td>2012</td><td>Jenson Button</td><td>14</td><td>94</td><td>6.714285714285714</td></tr><tr><td>2012</td><td>Lewis Hamilton</td><td>14</td><td>93</td><td>6.642857142857143</td></tr><tr><td>2012</td><td>Kimi Räikkönen</td><td>19</td><td>114</td><td>6.0</td></tr><tr><td>2012</td><td>Felipe Massa</td><td>14</td><td>73</td><td>5.214285714285714</td></tr><tr><td>2012</td><td>Nico Rosberg</td><td>10</td><td>51</td><td>5.1</td></tr><tr><td>2012</td><td>Daniel Ricciardo</td><td>6</td><td>10</td><td>1.6666666666666667</td></tr><tr><td>2013</td><td>Sebastian Vettel</td><td>18</td><td>169</td><td>9.38888888888889</td></tr><tr><td>2013</td><td>Fernando Alonso</td><td>17</td><td>125</td><td>7.352941176470588</td></tr><tr><td>2013</td><td>Kimi Räikkönen</td><td>14</td><td>95</td><td>6.785714285714286</td></tr><tr><td>2013</td><td>Lewis Hamilton</td><td>17</td><td>106</td><td>6.235294117647059</td></tr><tr><td>2013</td><td>Nico Rosberg</td><td>16</td><td>93</td><td>5.8125</td></tr><tr><td>2013</td><td>Felipe Massa</td><td>15</td><td>70</td><td>4.666666666666667</td></tr><tr><td>2013</td><td>Jenson Button</td><td>14</td><td>49</td><td>3.5</td></tr><tr><td>2013</td><td>Valtteri Bottas</td><td>1</td><td>3</td><td>3.0</td></tr><tr><td>2013</td><td>Daniel Ricciardo</td><td>7</td><td>15</td><td>2.142857142857143</td></tr><tr><td>2014</td><td>Lewis Hamilton</td><td>16</td><td>153</td><td>9.5625</td></tr><tr><td>2014</td><td>Nico Rosberg</td><td>16</td><td>147</td><td>9.1875</td></tr><tr><td>2014</td><td>Daniel Ricciardo</td><td>16</td><td>116</td><td>7.25</td></tr><tr><td>2014</td><td>Felipe Massa</td><td>11</td><td>67</td><td>6.090909090909091</td></tr><tr><td>2014</td><td>Sebastian Vettel</td><td>16</td><td>95</td><td>5.9375</td></tr><tr><td>2014</td><td>Valtteri Bottas</td><td>17</td><td>98</td><td>5.764705882352941</td></tr><tr><td>2014</td><td>Fernando Alonso</td><td>17</td><td>95</td><td>5.588235294117647</td></tr><tr><td>2014</td><td>Jenson Button</td><td>13</td><td>70</td><td>5.384615384615385</td></tr><tr><td>2014</td><td>Kimi Räikkönen</td><td>13</td><td>38</td><td>2.923076923076923</td></tr><tr><td>2015</td><td>Lewis Hamilton</td><td>18</td><td>167</td><td>9.277777777777779</td></tr><tr><td>2015</td><td>Nico Rosberg</td><td>17</td><td>149</td><td>8.764705882352942</td></tr><tr><td>2015</td><td>Sebastian Vettel</td><td>17</td><td>139</td><td>8.176470588235293</td></tr><tr><td>2015</td><td>Kimi Räikkönen</td><td>14</td><td>87</td><td>6.214285714285714</td></tr><tr><td>2015</td><td>Valtteri Bottas</td><td>13</td><td>80</td><td>6.153846153846154</td></tr><tr><td>2015</td><td>Felipe Massa</td><td>13</td><td>72</td><td>5.538461538461538</td></tr><tr><td>2015</td><td>Daniel Ricciardo</td><td>13</td><td>56</td><td>4.3076923076923075</td></tr><tr><td>2015</td><td>Fernando Alonso</td><td>2</td><td>7</td><td>3.5</td></tr><tr><td>2015</td><td>Max Verstappen</td><td>10</td><td>34</td><td>3.4</td></tr><tr><td>2015</td><td>Jenson Button</td><td>4</td><td>12</td><td>3.0</td></tr><tr><td>2016</td><td>Lewis Hamilton</td><td>19</td><td>169</td><td>8.894736842105264</td></tr><tr><td>2016</td><td>Nico Rosberg</td><td>20</td><td>175</td><td>8.75</td></tr><tr><td>2016</td><td>Daniel Ricciardo</td><td>20</td><td>139</td><td>6.95</td></tr><tr><td>2016</td><td>Sebastian Vettel</td><td>17</td><td>118</td><td>6.9411764705882355</td></tr><tr><td>2016</td><td>Max Verstappen</td><td>17</td><td>110</td><td>6.470588235294118</td></tr><tr><td>2016</td><td>Kimi Räikkönen</td><td>17</td><td>107</td><td>6.294117647058823</td></tr><tr><td>2016</td><td>Fernando Alonso</td><td>9</td><td>35</td><td>3.888888888888889</td></tr><tr><td>2016</td><td>Valtteri Bottas</td><td>15</td><td>56</td><td>3.7333333333333334</td></tr><tr><td>2016</td><td>Felipe Massa</td><td>13</td><td>38</td><td>2.923076923076923</td></tr><tr><td>2016</td><td>Jenson Button</td><td>7</td><td>17</td><td>2.4285714285714284</td></tr><tr><td>2017</td><td>Sebastian Vettel</td><td>18</td><td>152</td><td>8.444444444444445</td></tr><tr><td>2017</td><td>Lewis Hamilton</td><td>20</td><td>166</td><td>8.3</td></tr><tr><td>2017</td><td>Valtteri Bottas</td><td>19</td><td>153</td><td>8.052631578947368</td></tr><tr><td>2017</td><td>Daniel Ricciardo</td><td>14</td><td>106</td><td>7.571428571428571</td></tr><tr><td>2017</td><td>Kimi Räikkönen</td><td>16</td><td>114</td><td>7.125</td></tr><tr><td>2017</td><td>Max Verstappen</td><td>13</td><td>88</td><td>6.769230769230769</td></tr><tr><td>2017</td><td>Fernando Alonso</td><td>5</td><td>13</td><td>2.6</td></tr><tr><td>2017</td><td>Felipe Massa</td><td>13</td><td>33</td><td>2.5384615384615383</td></tr><tr><td>2018</td><td>Lewis Hamilton</td><td>20</td><td>181</td><td>9.05</td></tr><tr><td>2018</td><td>Sebastian Vettel</td><td>20</td><td>157</td><td>7.85</td></tr><tr><td>2018</td><td>Kimi Räikkönen</td><td>17</td><td>132</td><td>7.764705882352941</td></tr><tr><td>2018</td><td>Max Verstappen</td><td>17</td><td>128</td><td>7.529411764705882</td></tr><tr><td>2018</td><td>Valtteri Bottas</td><td>19</td><td>135</td><td>7.105263157894737</td></tr><tr><td>2018</td><td>Daniel Ricciardo</td><td>13</td><td>91</td><td>7.0</td></tr><tr><td>2018</td><td>Fernando Alonso</td><td>9</td><td>34</td><td>3.7777777777777777</td></tr><tr><td>2019</td><td>Lewis Hamilton</td><td>21</td><td>181</td><td>8.619047619047619</td></tr><tr><td>2019</td><td>Valtteri Bottas</td><td>19</td><td>158</td><td>8.31578947368421</td></tr><tr><td>2019</td><td>Sebastian Vettel</td><td>16</td><td>125</td><td>7.8125</td></tr><tr><td>2019</td><td>Max Verstappen</td><td>19</td><td>142</td><td>7.473684210526316</td></tr><tr><td>2019</td><td>Daniel Ricciardo</td><td>8</td><td>35</td><td>4.375</td></tr><tr><td>2019</td><td>Kimi Räikkönen</td><td>9</td><td>30</td><td>3.3333333333333335</td></tr><tr><td>2020</td><td>Lewis Hamilton</td><td>16</td><td>146</td><td>9.125</td></tr><tr><td>2020</td><td>Max Verstappen</td><td>12</td><td>103</td><td>8.583333333333334</td></tr><tr><td>2020</td><td>Valtteri Bottas</td><td>14</td><td>110</td><td>7.857142857142857</td></tr><tr><td>2020</td><td>Daniel Ricciardo</td><td>14</td><td>71</td><td>5.071428571428571</td></tr><tr><td>2020</td><td>Sebastian Vettel</td><td>7</td><td>21</td><td>3.0</td></tr><tr><td>2020</td><td>Kimi Räikkönen</td><td>2</td><td>4</td><td>2.0</td></tr></tbody></table></div>"
      ]
     },
     "metadata": {
      "application/vnd.databricks.v1+output": {
       "addedWidgets": {},
       "aggData": [],
       "aggError": "",
       "aggOverflow": false,
       "aggSchema": [],
       "aggSeriesLimitReached": false,
       "aggType": "",
       "arguments": {},
       "columnCustomDisplayInfos": {},
       "data": [
        [
         2011,
         "Sebastian Vettel",
         18,
         170,
         9.444444444444445
        ],
        [
         2011,
         "Jenson Button",
         17,
         135,
         7.9411764705882355
        ],
        [
         2011,
         "Fernando Alonso",
         18,
         136,
         7.555555555555555
        ],
        [
         2011,
         "Lewis Hamilton",
         16,
         116,
         7.25
        ],
        [
         2011,
         "Felipe Massa",
         15,
         74,
         4.933333333333334
        ],
        [
         2011,
         "Nico Rosberg",
         14,
         58,
         4.142857142857143
        ],
        [
         2012,
         "Sebastian Vettel",
         17,
         136,
         8.0
        ],
        [
         2012,
         "Fernando Alonso",
         18,
         139,
         7.722222222222222
        ],
        [
         2012,
         "Jenson Button",
         14,
         94,
         6.714285714285714
        ],
        [
         2012,
         "Lewis Hamilton",
         14,
         93,
         6.642857142857143
        ],
        [
         2012,
         "Kimi Räikkönen",
         19,
         114,
         6.0
        ],
        [
         2012,
         "Felipe Massa",
         14,
         73,
         5.214285714285714
        ],
        [
         2012,
         "Nico Rosberg",
         10,
         51,
         5.1
        ],
        [
         2012,
         "Daniel Ricciardo",
         6,
         10,
         1.6666666666666667
        ],
        [
         2013,
         "Sebastian Vettel",
         18,
         169,
         9.38888888888889
        ],
        [
         2013,
         "Fernando Alonso",
         17,
         125,
         7.352941176470588
        ],
        [
         2013,
         "Kimi Räikkönen",
         14,
         95,
         6.785714285714286
        ],
        [
         2013,
         "Lewis Hamilton",
         17,
         106,
         6.235294117647059
        ],
        [
         2013,
         "Nico Rosberg",
         16,
         93,
         5.8125
        ],
        [
         2013,
         "Felipe Massa",
         15,
         70,
         4.666666666666667
        ],
        [
         2013,
         "Jenson Button",
         14,
         49,
         3.5
        ],
        [
         2013,
         "Valtteri Bottas",
         1,
         3,
         3.0
        ],
        [
         2013,
         "Daniel Ricciardo",
         7,
         15,
         2.142857142857143
        ],
        [
         2014,
         "Lewis Hamilton",
         16,
         153,
         9.5625
        ],
        [
         2014,
         "Nico Rosberg",
         16,
         147,
         9.1875
        ],
        [
         2014,
         "Daniel Ricciardo",
         16,
         116,
         7.25
        ],
        [
         2014,
         "Felipe Massa",
         11,
         67,
         6.090909090909091
        ],
        [
         2014,
         "Sebastian Vettel",
         16,
         95,
         5.9375
        ],
        [
         2014,
         "Valtteri Bottas",
         17,
         98,
         5.764705882352941
        ],
        [
         2014,
         "Fernando Alonso",
         17,
         95,
         5.588235294117647
        ],
        [
         2014,
         "Jenson Button",
         13,
         70,
         5.384615384615385
        ],
        [
         2014,
         "Kimi Räikkönen",
         13,
         38,
         2.923076923076923
        ],
        [
         2015,
         "Lewis Hamilton",
         18,
         167,
         9.277777777777779
        ],
        [
         2015,
         "Nico Rosberg",
         17,
         149,
         8.764705882352942
        ],
        [
         2015,
         "Sebastian Vettel",
         17,
         139,
         8.176470588235293
        ],
        [
         2015,
         "Kimi Räikkönen",
         14,
         87,
         6.214285714285714
        ],
        [
         2015,
         "Valtteri Bottas",
         13,
         80,
         6.153846153846154
        ],
        [
         2015,
         "Felipe Massa",
         13,
         72,
         5.538461538461538
        ],
        [
         2015,
         "Daniel Ricciardo",
         13,
         56,
         4.3076923076923075
        ],
        [
         2015,
         "Fernando Alonso",
         2,
         7,
         3.5
        ],
        [
         2015,
         "Max Verstappen",
         10,
         34,
         3.4
        ],
        [
         2015,
         "Jenson Button",
         4,
         12,
         3.0
        ],
        [
         2016,
         "Lewis Hamilton",
         19,
         169,
         8.894736842105264
        ],
        [
         2016,
         "Nico Rosberg",
         20,
         175,
         8.75
        ],
        [
         2016,
         "Daniel Ricciardo",
         20,
         139,
         6.95
        ],
        [
         2016,
         "Sebastian Vettel",
         17,
         118,
         6.9411764705882355
        ],
        [
         2016,
         "Max Verstappen",
         17,
         110,
         6.470588235294118
        ],
        [
         2016,
         "Kimi Räikkönen",
         17,
         107,
         6.294117647058823
        ],
        [
         2016,
         "Fernando Alonso",
         9,
         35,
         3.888888888888889
        ],
        [
         2016,
         "Valtteri Bottas",
         15,
         56,
         3.7333333333333334
        ],
        [
         2016,
         "Felipe Massa",
         13,
         38,
         2.923076923076923
        ],
        [
         2016,
         "Jenson Button",
         7,
         17,
         2.4285714285714284
        ],
        [
         2017,
         "Sebastian Vettel",
         18,
         152,
         8.444444444444445
        ],
        [
         2017,
         "Lewis Hamilton",
         20,
         166,
         8.3
        ],
        [
         2017,
         "Valtteri Bottas",
         19,
         153,
         8.052631578947368
        ],
        [
         2017,
         "Daniel Ricciardo",
         14,
         106,
         7.571428571428571
        ],
        [
         2017,
         "Kimi Räikkönen",
         16,
         114,
         7.125
        ],
        [
         2017,
         "Max Verstappen",
         13,
         88,
         6.769230769230769
        ],
        [
         2017,
         "Fernando Alonso",
         5,
         13,
         2.6
        ],
        [
         2017,
         "Felipe Massa",
         13,
         33,
         2.5384615384615383
        ],
        [
         2018,
         "Lewis Hamilton",
         20,
         181,
         9.05
        ],
        [
         2018,
         "Sebastian Vettel",
         20,
         157,
         7.85
        ],
        [
         2018,
         "Kimi Räikkönen",
         17,
         132,
         7.764705882352941
        ],
        [
         2018,
         "Max Verstappen",
         17,
         128,
         7.529411764705882
        ],
        [
         2018,
         "Valtteri Bottas",
         19,
         135,
         7.105263157894737
        ],
        [
         2018,
         "Daniel Ricciardo",
         13,
         91,
         7.0
        ],
        [
         2018,
         "Fernando Alonso",
         9,
         34,
         3.7777777777777777
        ],
        [
         2019,
         "Lewis Hamilton",
         21,
         181,
         8.619047619047619
        ],
        [
         2019,
         "Valtteri Bottas",
         19,
         158,
         8.31578947368421
        ],
        [
         2019,
         "Sebastian Vettel",
         16,
         125,
         7.8125
        ],
        [
         2019,
         "Max Verstappen",
         19,
         142,
         7.473684210526316
        ],
        [
         2019,
         "Daniel Ricciardo",
         8,
         35,
         4.375
        ],
        [
         2019,
         "Kimi Räikkönen",
         9,
         30,
         3.3333333333333335
        ],
        [
         2020,
         "Lewis Hamilton",
         16,
         146,
         9.125
        ],
        [
         2020,
         "Max Verstappen",
         12,
         103,
         8.583333333333334
        ],
        [
         2020,
         "Valtteri Bottas",
         14,
         110,
         7.857142857142857
        ],
        [
         2020,
         "Daniel Ricciardo",
         14,
         71,
         5.071428571428571
        ],
        [
         2020,
         "Sebastian Vettel",
         7,
         21,
         3.0
        ],
        [
         2020,
         "Kimi Räikkönen",
         2,
         4,
         2.0
        ]
       ],
       "datasetInfos": [],
       "dbfsResultPath": null,
       "isJsonSchema": true,
       "metadata": {
        "isDbfsCommandResult": false
       },
       "overflow": false,
       "plotOptions": {
        "customPlotOptions": {},
        "displayType": "table",
        "pivotAggregation": null,
        "pivotColumns": null,
        "xColumns": null,
        "yColumns": null
       },
       "removedWidgets": [],
       "schema": [
        {
         "metadata": "{}",
         "name": "race_year",
         "type": "\"integer\""
        },
        {
         "metadata": "{}",
         "name": "driver_name",
         "type": "\"string\""
        },
        {
         "metadata": "{}",
         "name": "total_races",
         "type": "\"long\""
        },
        {
         "metadata": "{}",
         "name": "total_points",
         "type": "\"long\""
        },
        {
         "metadata": "{}",
         "name": "avg_points",
         "type": "\"double\""
        }
       ],
       "type": "table"
      }
     },
     "output_type": "display_data"
    },
    {
     "output_type": "display_data",
     "data": {
      "text/plain": [
       "Databricks visualization. Run in Databricks to view."
      ]
     },
     "metadata": {
      "application/vnd.databricks.v1.subcommand+json": {
       "baseErrorDetails": null,
       "bindings": {},
       "collapsed": false,
       "command": "%sql WITH q AS (SELECT race_year,\n       driver_name,\n       COUNT(*) AS total_races,\n       SUM(calculated_points) AS total_points,\n       AVG(calculated_points) AS avg_points\nFROM f1_presentation.calculated_race_results\nWHERE race_year BETWEEN 2011 AND 2020\nAND driver_name IN (SELECT driver_name FROM view_dominant_drivers_recent WHERE driver_rank <= 10)\nGROUP BY race_year, driver_name\nORDER BY race_year, avg_points DESC) SELECT `race_year`,`avg_points`,`driver_name` FROM q",
       "commandTitle": "Top 10 drivers (2011-2020)",
       "commandType": "auto",
       "commandVersion": 0,
       "commentThread": [],
       "commentsVisible": false,
       "contentSha256Hex": null,
       "customPlotOptions": {
        "redashChart": [
         {
          "key": "type",
          "value": "CHART"
         },
         {
          "key": "options",
          "value": {
           "alignYAxesAtZero": true,
           "coefficient": 1,
           "columnConfigurationMap": {
            "series": {
             "column": "driver_name",
             "id": "column_cefbe0b2480"
            },
            "x": {
             "column": "race_year",
             "id": "column_cefbe0b2479"
            },
            "y": [
             {
              "column": "avg_points",
              "id": "column_cefbe0b2482"
             }
            ]
           },
           "dateTimeFormat": "DD/MM/YYYY HH:mm",
           "direction": {
            "type": "counterclockwise"
           },
           "error_y": {
            "type": "data",
            "visible": true
           },
           "globalSeriesType": "area",
           "isAggregationOn": false,
           "legend": {
            "traceorder": "normal"
           },
           "missingValuesAsZero": true,
           "numberFormat": "0,0.[00000]",
           "percentFormat": "0[.]00%",
           "series": {
            "error_y": {
             "type": "data",
             "visible": true
            },
            "stacking": null
           },
           "seriesOptions": {
            "avg_points": {
             "type": "area",
             "yAxis": 0
            },
            "column_cefbe0b2482": {
             "type": "area",
             "yAxis": 0
            }
           },
           "showDataLabels": false,
           "sizemode": "diameter",
           "sortX": true,
           "sortY": true,
           "swappedAxes": false,
           "textFormat": "",
           "useAggregationsUi": true,
           "valuesOptions": {},
           "version": 2,
           "xAxis": {
            "labels": {
             "enabled": true
            },
            "title": {
             "text": "Year"
            },
            "type": "-"
           },
           "yAxis": [
            {
             "title": {
              "text": "Average points"
             },
             "type": "-"
            },
            {
             "opposite": true,
             "type": "-"
            }
           ]
          }
         }
        ]
       },
       "datasetPreviewNameToCmdIdMap": {},
       "diffDeletes": [],
       "diffInserts": [],
       "displayType": "redashChart",
       "error": null,
       "errorDetails": null,
       "errorSummary": null,
       "errorTraceType": null,
       "finishTime": 0,
       "globalVars": {},
       "guid": "",
       "height": "auto",
       "hideCommandCode": false,
       "hideCommandResult": false,
       "iPythonMetadata": null,
       "inputWidgets": {},
       "isLockedInExamMode": false,
       "latestUser": "a user",
       "latestUserId": null,
       "listResultMetadata": null,
       "metadata": {},
       "nuid": "89d78637-1b74-4e05-befb-4eb717226a17",
       "origId": 0,
       "parentHierarchy": [],
       "pivotAggregation": null,
       "pivotColumns": null,
       "position": 13.375,
       "resultDbfsErrorMessage": null,
       "resultDbfsStatus": "INLINED_IN_TREE",
       "results": null,
       "showCommandTitle": false,
       "startTime": 0,
       "state": "input",
       "streamStates": {},
       "subcommandOptions": {
        "queryPlan": {
         "selects": [
          {
           "column": "race_year",
           "type": "column"
          },
          {
           "column": "avg_points",
           "type": "column"
          },
          {
           "column": "driver_name",
           "type": "column"
          }
         ]
        }
       },
       "submitTime": 0,
       "subtype": "tableResultSubCmd.visualization",
       "tableResultIndex": 0,
       "tableResultSettingsMap": {},
       "useConsistentColors": false,
       "version": "CommandV1",
       "width": "auto",
       "workflows": [],
       "xColumns": null,
       "yColumns": null
      }
     },
     "output_type": "display_data"
    }
   ],
   "source": [
    "SELECT race_year,\n",
    "       driver_name,\n",
    "       COUNT(*) AS total_races,\n",
    "       SUM(calculated_points) AS total_points,\n",
    "       AVG(calculated_points) AS avg_points\n",
    "FROM f1_presentation.calculated_race_results\n",
    "WHERE race_year BETWEEN 2011 AND 2020\n",
    "AND driver_name IN (SELECT driver_name FROM view_dominant_drivers_recent WHERE driver_rank <= 10)\n",
    "GROUP BY race_year, driver_name\n",
    "ORDER BY race_year, avg_points DESC"
   ]
  }
 ],
 "metadata": {
  "application/vnd.databricks.v1+notebook": {
   "computePreferences": null,
   "dashboards": [
    {
     "elements": [
      {
       "dashboardResultIndex": null,
       "elementNUID": "9b002377-fba5-4f3b-8d76-8558d4b39221",
       "elementType": "command",
       "guid": "01f04bd4-c82a-4048-a0f4-4d6ab3a6e1ee",
       "options": null,
       "position": {
        "height": 2,
        "width": 24,
        "x": 0,
        "y": 0,
        "z": null
       },
       "resultIndex": null
      },
      {
       "dashboardResultIndex": null,
       "elementNUID": "acabd2d9-e61c-4c30-95e7-4f893828365e",
       "elementType": "command",
       "guid": "0ae09fe6-c621-4129-b6cc-2469c0d36457",
       "options": {
        "autoScaleImg": false,
        "scale": 0,
        "showRunButton": false,
        "showTitle": true,
        "title": "Dominant drivers (all time)",
        "titleAlign": "center"
       },
       "position": {
        "height": 10,
        "width": 24,
        "x": 0,
        "y": 2,
        "z": null
       },
       "resultIndex": null
      },
      {
       "dashboardResultIndex": null,
       "elementNUID": "89d78637-1b74-4e05-befb-4eb717226a17",
       "elementType": "command",
       "guid": "1460b7d2-3376-40d7-ba8b-b35550600476",
       "options": {
        "autoScaleImg": false,
        "scale": 0,
        "showTitle": true,
        "title": "Dominant drivers (2011-2020)",
        "titleAlign": "center"
       },
       "position": {
        "height": 10,
        "width": 24,
        "x": 0,
        "y": 12,
        "z": null
       },
       "resultIndex": null
      }
     ],
     "globalVars": {},
     "guid": "",
     "layoutOption": {
      "grid": true,
      "stack": true
     },
     "nuid": "d162cbab-340b-4690-b1e5-14e028f65970",
     "origId": 6803040454688883,
     "title": "F1 Dominant Drivers",
     "version": "DashboardViewV1",
     "width": 1024
    }
   ],
   "environmentMetadata": {
    "base_environment": "",
    "environment_version": "2"
   },
   "inputWidgetPreferences": null,
   "language": "sql",
   "notebookMetadata": {
    "pythonIndentUnit": 4
   },
   "notebookName": "1.dominant_drivers",
   "widgets": {}
  },
  "language_info": {
   "name": "sql"
  }
 },
 "nbformat": 4,
 "nbformat_minor": 0
}